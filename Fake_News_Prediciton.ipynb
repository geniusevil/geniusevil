{
  "nbformat": 4,
  "nbformat_minor": 0,
  "metadata": {
    "colab": {
      "provenance": [],
      "mount_file_id": "1fDY1zt2U1-94YkobawpkezpBN4FOPqt_",
      "authorship_tag": "ABX9TyOxchTE+sJdo7N+E1y7YsjA",
      "include_colab_link": true
    },
    "kernelspec": {
      "name": "python3",
      "display_name": "Python 3"
    },
    "language_info": {
      "name": "python"
    }
  },
  "cells": [
    {
      "cell_type": "markdown",
      "metadata": {
        "id": "view-in-github",
        "colab_type": "text"
      },
      "source": [
        "<a href=\"https://colab.research.google.com/github/sathvik8317/geniusevil/blob/main/Fake_News_Prediciton.ipynb\" target=\"_parent\"><img src=\"https://colab.research.google.com/assets/colab-badge.svg\" alt=\"Open In Colab\"/></a>"
      ]
    },
    {
      "cell_type": "markdown",
      "source": [
        "Importing the Dependencies"
      ],
      "metadata": {
        "id": "haPPVLatZ9I3"
      }
    },
    {
      "cell_type": "code",
      "execution_count": 1,
      "metadata": {
        "id": "7HX3Js09YhKc"
      },
      "outputs": [],
      "source": [
        "import numpy as np\n",
        "import pandas as pd\n",
        "import re\n",
        "from nltk.corpus import stopwords\n",
        "from nltk.stem.porter import PorterStemmer\n",
        "from sklearn.feature_extraction.text import TfidfVectorizer\n",
        "from sklearn.model_selection import train_test_split\n",
        "from sklearn.linear_model import LogisticRegression\n",
        "from sklearn.metrics import accuracy_score"
      ]
    },
    {
      "cell_type": "code",
      "source": [
        "import nltk\n",
        "nltk.download('stopwords')"
      ],
      "metadata": {
        "colab": {
          "base_uri": "https://localhost:8080/"
        },
        "id": "jiJrvii_arMf",
        "outputId": "9d709cd8-1829-4b86-fce0-2ff1d3e6b5bb"
      },
      "execution_count": 2,
      "outputs": [
        {
          "output_type": "stream",
          "name": "stderr",
          "text": [
            "[nltk_data] Downloading package stopwords to /root/nltk_data...\n",
            "[nltk_data]   Unzipping corpora/stopwords.zip.\n"
          ]
        },
        {
          "output_type": "execute_result",
          "data": {
            "text/plain": [
              "True"
            ]
          },
          "metadata": {},
          "execution_count": 2
        }
      ]
    },
    {
      "cell_type": "code",
      "source": [
        "print(stopwords.words('english'))"
      ],
      "metadata": {
        "colab": {
          "base_uri": "https://localhost:8080/"
        },
        "id": "yq9YTdecazPf",
        "outputId": "79633e7e-d36b-470c-bf66-0d56d03ad958"
      },
      "execution_count": 3,
      "outputs": [
        {
          "output_type": "stream",
          "name": "stdout",
          "text": [
            "['i', 'me', 'my', 'myself', 'we', 'our', 'ours', 'ourselves', 'you', \"you're\", \"you've\", \"you'll\", \"you'd\", 'your', 'yours', 'yourself', 'yourselves', 'he', 'him', 'his', 'himself', 'she', \"she's\", 'her', 'hers', 'herself', 'it', \"it's\", 'its', 'itself', 'they', 'them', 'their', 'theirs', 'themselves', 'what', 'which', 'who', 'whom', 'this', 'that', \"that'll\", 'these', 'those', 'am', 'is', 'are', 'was', 'were', 'be', 'been', 'being', 'have', 'has', 'had', 'having', 'do', 'does', 'did', 'doing', 'a', 'an', 'the', 'and', 'but', 'if', 'or', 'because', 'as', 'until', 'while', 'of', 'at', 'by', 'for', 'with', 'about', 'against', 'between', 'into', 'through', 'during', 'before', 'after', 'above', 'below', 'to', 'from', 'up', 'down', 'in', 'out', 'on', 'off', 'over', 'under', 'again', 'further', 'then', 'once', 'here', 'there', 'when', 'where', 'why', 'how', 'all', 'any', 'both', 'each', 'few', 'more', 'most', 'other', 'some', 'such', 'no', 'nor', 'not', 'only', 'own', 'same', 'so', 'than', 'too', 'very', 's', 't', 'can', 'will', 'just', 'don', \"don't\", 'should', \"should've\", 'now', 'd', 'll', 'm', 'o', 're', 've', 'y', 'ain', 'aren', \"aren't\", 'couldn', \"couldn't\", 'didn', \"didn't\", 'doesn', \"doesn't\", 'hadn', \"hadn't\", 'hasn', \"hasn't\", 'haven', \"haven't\", 'isn', \"isn't\", 'ma', 'mightn', \"mightn't\", 'mustn', \"mustn't\", 'needn', \"needn't\", 'shan', \"shan't\", 'shouldn', \"shouldn't\", 'wasn', \"wasn't\", 'weren', \"weren't\", 'won', \"won't\", 'wouldn', \"wouldn't\"]\n"
          ]
        }
      ]
    },
    {
      "cell_type": "markdown",
      "source": [
        "Data Preprocessing"
      ],
      "metadata": {
        "id": "dCl1gNj3a81y"
      }
    },
    {
      "cell_type": "code",
      "source": [
        "df = pd.read_csv('/content/drive/MyDrive/Datasets/data.csv')"
      ],
      "metadata": {
        "id": "DyKdjSbMa4Vw"
      },
      "execution_count": 4,
      "outputs": []
    },
    {
      "cell_type": "code",
      "source": [
        "df.head()"
      ],
      "metadata": {
        "colab": {
          "base_uri": "https://localhost:8080/",
          "height": 206
        },
        "id": "o7j_hLevbCQB",
        "outputId": "6bcaa41e-760b-4e1e-afb4-dba1154f3d3f"
      },
      "execution_count": 5,
      "outputs": [
        {
          "output_type": "execute_result",
          "data": {
            "text/plain": [
              "                                                URLs  \\\n",
              "0  http://www.bbc.com/news/world-us-canada-414191...   \n",
              "1  https://www.reuters.com/article/us-filmfestiva...   \n",
              "2  https://www.nytimes.com/2017/10/09/us/politics...   \n",
              "3  https://www.reuters.com/article/us-mexico-oil-...   \n",
              "4  http://www.cnn.com/videos/cnnmoney/2017/10/08/...   \n",
              "\n",
              "                                            Headline  \\\n",
              "0         Four ways Bob Corker skewered Donald Trump   \n",
              "1  Linklater's war veteran comedy speaks to moder...   \n",
              "2  Trump’s Fight With Corker Jeopardizes His Legi...   \n",
              "3  Egypt's Cheiron wins tie-up with Pemex for Mex...   \n",
              "4        Jason Aldean opens 'SNL' with Vegas tribute   \n",
              "\n",
              "                                                Body  Label  \n",
              "0  Image copyright Getty Images\\nOn Sunday mornin...      1  \n",
              "1  LONDON (Reuters) - “Last Flag Flying”, a comed...      1  \n",
              "2  The feud broke into public view last week when...      1  \n",
              "3  MEXICO CITY (Reuters) - Egypt’s Cheiron Holdin...      1  \n",
              "4  Country singer Jason Aldean, who was performin...      1  "
            ],
            "text/html": [
              "\n",
              "  <div id=\"df-ba767a7b-6e10-46fe-8eb2-cca6f323db9d\" class=\"colab-df-container\">\n",
              "    <div>\n",
              "<style scoped>\n",
              "    .dataframe tbody tr th:only-of-type {\n",
              "        vertical-align: middle;\n",
              "    }\n",
              "\n",
              "    .dataframe tbody tr th {\n",
              "        vertical-align: top;\n",
              "    }\n",
              "\n",
              "    .dataframe thead th {\n",
              "        text-align: right;\n",
              "    }\n",
              "</style>\n",
              "<table border=\"1\" class=\"dataframe\">\n",
              "  <thead>\n",
              "    <tr style=\"text-align: right;\">\n",
              "      <th></th>\n",
              "      <th>URLs</th>\n",
              "      <th>Headline</th>\n",
              "      <th>Body</th>\n",
              "      <th>Label</th>\n",
              "    </tr>\n",
              "  </thead>\n",
              "  <tbody>\n",
              "    <tr>\n",
              "      <th>0</th>\n",
              "      <td>http://www.bbc.com/news/world-us-canada-414191...</td>\n",
              "      <td>Four ways Bob Corker skewered Donald Trump</td>\n",
              "      <td>Image copyright Getty Images\\nOn Sunday mornin...</td>\n",
              "      <td>1</td>\n",
              "    </tr>\n",
              "    <tr>\n",
              "      <th>1</th>\n",
              "      <td>https://www.reuters.com/article/us-filmfestiva...</td>\n",
              "      <td>Linklater's war veteran comedy speaks to moder...</td>\n",
              "      <td>LONDON (Reuters) - “Last Flag Flying”, a comed...</td>\n",
              "      <td>1</td>\n",
              "    </tr>\n",
              "    <tr>\n",
              "      <th>2</th>\n",
              "      <td>https://www.nytimes.com/2017/10/09/us/politics...</td>\n",
              "      <td>Trump’s Fight With Corker Jeopardizes His Legi...</td>\n",
              "      <td>The feud broke into public view last week when...</td>\n",
              "      <td>1</td>\n",
              "    </tr>\n",
              "    <tr>\n",
              "      <th>3</th>\n",
              "      <td>https://www.reuters.com/article/us-mexico-oil-...</td>\n",
              "      <td>Egypt's Cheiron wins tie-up with Pemex for Mex...</td>\n",
              "      <td>MEXICO CITY (Reuters) - Egypt’s Cheiron Holdin...</td>\n",
              "      <td>1</td>\n",
              "    </tr>\n",
              "    <tr>\n",
              "      <th>4</th>\n",
              "      <td>http://www.cnn.com/videos/cnnmoney/2017/10/08/...</td>\n",
              "      <td>Jason Aldean opens 'SNL' with Vegas tribute</td>\n",
              "      <td>Country singer Jason Aldean, who was performin...</td>\n",
              "      <td>1</td>\n",
              "    </tr>\n",
              "  </tbody>\n",
              "</table>\n",
              "</div>\n",
              "    <div class=\"colab-df-buttons\">\n",
              "\n",
              "  <div class=\"colab-df-container\">\n",
              "    <button class=\"colab-df-convert\" onclick=\"convertToInteractive('df-ba767a7b-6e10-46fe-8eb2-cca6f323db9d')\"\n",
              "            title=\"Convert this dataframe to an interactive table.\"\n",
              "            style=\"display:none;\">\n",
              "\n",
              "  <svg xmlns=\"http://www.w3.org/2000/svg\" height=\"24px\" viewBox=\"0 -960 960 960\">\n",
              "    <path d=\"M120-120v-720h720v720H120Zm60-500h600v-160H180v160Zm220 220h160v-160H400v160Zm0 220h160v-160H400v160ZM180-400h160v-160H180v160Zm440 0h160v-160H620v160ZM180-180h160v-160H180v160Zm440 0h160v-160H620v160Z\"/>\n",
              "  </svg>\n",
              "    </button>\n",
              "\n",
              "  <style>\n",
              "    .colab-df-container {\n",
              "      display:flex;\n",
              "      gap: 12px;\n",
              "    }\n",
              "\n",
              "    .colab-df-convert {\n",
              "      background-color: #E8F0FE;\n",
              "      border: none;\n",
              "      border-radius: 50%;\n",
              "      cursor: pointer;\n",
              "      display: none;\n",
              "      fill: #1967D2;\n",
              "      height: 32px;\n",
              "      padding: 0 0 0 0;\n",
              "      width: 32px;\n",
              "    }\n",
              "\n",
              "    .colab-df-convert:hover {\n",
              "      background-color: #E2EBFA;\n",
              "      box-shadow: 0px 1px 2px rgba(60, 64, 67, 0.3), 0px 1px 3px 1px rgba(60, 64, 67, 0.15);\n",
              "      fill: #174EA6;\n",
              "    }\n",
              "\n",
              "    .colab-df-buttons div {\n",
              "      margin-bottom: 4px;\n",
              "    }\n",
              "\n",
              "    [theme=dark] .colab-df-convert {\n",
              "      background-color: #3B4455;\n",
              "      fill: #D2E3FC;\n",
              "    }\n",
              "\n",
              "    [theme=dark] .colab-df-convert:hover {\n",
              "      background-color: #434B5C;\n",
              "      box-shadow: 0px 1px 3px 1px rgba(0, 0, 0, 0.15);\n",
              "      filter: drop-shadow(0px 1px 2px rgba(0, 0, 0, 0.3));\n",
              "      fill: #FFFFFF;\n",
              "    }\n",
              "  </style>\n",
              "\n",
              "    <script>\n",
              "      const buttonEl =\n",
              "        document.querySelector('#df-ba767a7b-6e10-46fe-8eb2-cca6f323db9d button.colab-df-convert');\n",
              "      buttonEl.style.display =\n",
              "        google.colab.kernel.accessAllowed ? 'block' : 'none';\n",
              "\n",
              "      async function convertToInteractive(key) {\n",
              "        const element = document.querySelector('#df-ba767a7b-6e10-46fe-8eb2-cca6f323db9d');\n",
              "        const dataTable =\n",
              "          await google.colab.kernel.invokeFunction('convertToInteractive',\n",
              "                                                    [key], {});\n",
              "        if (!dataTable) return;\n",
              "\n",
              "        const docLinkHtml = 'Like what you see? Visit the ' +\n",
              "          '<a target=\"_blank\" href=https://colab.research.google.com/notebooks/data_table.ipynb>data table notebook</a>'\n",
              "          + ' to learn more about interactive tables.';\n",
              "        element.innerHTML = '';\n",
              "        dataTable['output_type'] = 'display_data';\n",
              "        await google.colab.output.renderOutput(dataTable, element);\n",
              "        const docLink = document.createElement('div');\n",
              "        docLink.innerHTML = docLinkHtml;\n",
              "        element.appendChild(docLink);\n",
              "      }\n",
              "    </script>\n",
              "  </div>\n",
              "\n",
              "\n",
              "<div id=\"df-2e2df780-1620-40ef-8167-c02bc910808a\">\n",
              "  <button class=\"colab-df-quickchart\" onclick=\"quickchart('df-2e2df780-1620-40ef-8167-c02bc910808a')\"\n",
              "            title=\"Suggest charts\"\n",
              "            style=\"display:none;\">\n",
              "\n",
              "<svg xmlns=\"http://www.w3.org/2000/svg\" height=\"24px\"viewBox=\"0 0 24 24\"\n",
              "     width=\"24px\">\n",
              "    <g>\n",
              "        <path d=\"M19 3H5c-1.1 0-2 .9-2 2v14c0 1.1.9 2 2 2h14c1.1 0 2-.9 2-2V5c0-1.1-.9-2-2-2zM9 17H7v-7h2v7zm4 0h-2V7h2v10zm4 0h-2v-4h2v4z\"/>\n",
              "    </g>\n",
              "</svg>\n",
              "  </button>\n",
              "\n",
              "<style>\n",
              "  .colab-df-quickchart {\n",
              "      --bg-color: #E8F0FE;\n",
              "      --fill-color: #1967D2;\n",
              "      --hover-bg-color: #E2EBFA;\n",
              "      --hover-fill-color: #174EA6;\n",
              "      --disabled-fill-color: #AAA;\n",
              "      --disabled-bg-color: #DDD;\n",
              "  }\n",
              "\n",
              "  [theme=dark] .colab-df-quickchart {\n",
              "      --bg-color: #3B4455;\n",
              "      --fill-color: #D2E3FC;\n",
              "      --hover-bg-color: #434B5C;\n",
              "      --hover-fill-color: #FFFFFF;\n",
              "      --disabled-bg-color: #3B4455;\n",
              "      --disabled-fill-color: #666;\n",
              "  }\n",
              "\n",
              "  .colab-df-quickchart {\n",
              "    background-color: var(--bg-color);\n",
              "    border: none;\n",
              "    border-radius: 50%;\n",
              "    cursor: pointer;\n",
              "    display: none;\n",
              "    fill: var(--fill-color);\n",
              "    height: 32px;\n",
              "    padding: 0;\n",
              "    width: 32px;\n",
              "  }\n",
              "\n",
              "  .colab-df-quickchart:hover {\n",
              "    background-color: var(--hover-bg-color);\n",
              "    box-shadow: 0 1px 2px rgba(60, 64, 67, 0.3), 0 1px 3px 1px rgba(60, 64, 67, 0.15);\n",
              "    fill: var(--button-hover-fill-color);\n",
              "  }\n",
              "\n",
              "  .colab-df-quickchart-complete:disabled,\n",
              "  .colab-df-quickchart-complete:disabled:hover {\n",
              "    background-color: var(--disabled-bg-color);\n",
              "    fill: var(--disabled-fill-color);\n",
              "    box-shadow: none;\n",
              "  }\n",
              "\n",
              "  .colab-df-spinner {\n",
              "    border: 2px solid var(--fill-color);\n",
              "    border-color: transparent;\n",
              "    border-bottom-color: var(--fill-color);\n",
              "    animation:\n",
              "      spin 1s steps(1) infinite;\n",
              "  }\n",
              "\n",
              "  @keyframes spin {\n",
              "    0% {\n",
              "      border-color: transparent;\n",
              "      border-bottom-color: var(--fill-color);\n",
              "      border-left-color: var(--fill-color);\n",
              "    }\n",
              "    20% {\n",
              "      border-color: transparent;\n",
              "      border-left-color: var(--fill-color);\n",
              "      border-top-color: var(--fill-color);\n",
              "    }\n",
              "    30% {\n",
              "      border-color: transparent;\n",
              "      border-left-color: var(--fill-color);\n",
              "      border-top-color: var(--fill-color);\n",
              "      border-right-color: var(--fill-color);\n",
              "    }\n",
              "    40% {\n",
              "      border-color: transparent;\n",
              "      border-right-color: var(--fill-color);\n",
              "      border-top-color: var(--fill-color);\n",
              "    }\n",
              "    60% {\n",
              "      border-color: transparent;\n",
              "      border-right-color: var(--fill-color);\n",
              "    }\n",
              "    80% {\n",
              "      border-color: transparent;\n",
              "      border-right-color: var(--fill-color);\n",
              "      border-bottom-color: var(--fill-color);\n",
              "    }\n",
              "    90% {\n",
              "      border-color: transparent;\n",
              "      border-bottom-color: var(--fill-color);\n",
              "    }\n",
              "  }\n",
              "</style>\n",
              "\n",
              "  <script>\n",
              "    async function quickchart(key) {\n",
              "      const quickchartButtonEl =\n",
              "        document.querySelector('#' + key + ' button');\n",
              "      quickchartButtonEl.disabled = true;  // To prevent multiple clicks.\n",
              "      quickchartButtonEl.classList.add('colab-df-spinner');\n",
              "      try {\n",
              "        const charts = await google.colab.kernel.invokeFunction(\n",
              "            'suggestCharts', [key], {});\n",
              "      } catch (error) {\n",
              "        console.error('Error during call to suggestCharts:', error);\n",
              "      }\n",
              "      quickchartButtonEl.classList.remove('colab-df-spinner');\n",
              "      quickchartButtonEl.classList.add('colab-df-quickchart-complete');\n",
              "    }\n",
              "    (() => {\n",
              "      let quickchartButtonEl =\n",
              "        document.querySelector('#df-2e2df780-1620-40ef-8167-c02bc910808a button');\n",
              "      quickchartButtonEl.style.display =\n",
              "        google.colab.kernel.accessAllowed ? 'block' : 'none';\n",
              "    })();\n",
              "  </script>\n",
              "</div>\n",
              "\n",
              "    </div>\n",
              "  </div>\n"
            ],
            "application/vnd.google.colaboratory.intrinsic+json": {
              "type": "dataframe",
              "variable_name": "df",
              "summary": "{\n  \"name\": \"df\",\n  \"rows\": 4009,\n  \"fields\": [\n    {\n      \"column\": \"URLs\",\n      \"properties\": {\n        \"dtype\": \"string\",\n        \"num_unique_values\": 3352,\n        \"samples\": [\n          \"http://beforeitsnews.com/sports/2017/09/jetnation-tuesday-tidbits-jets-maye-have-something-with-safety-tandem-2701190.html\\n\\n\",\n          \"http://www.disclose.tv/news/this_marine_stole_a_truck_and_saved_dozens_of_vegas_shooting_victims_now_the_car_owner_sent_him_this_message/140445\",\n          \"http://beforeitsnews.com/entertainment/2017/09/ashley-j-announces-her-new-empowering-and-energetic-pop-single-unbreakable-releasing-10617-2670588.html\\r\\n\"\n        ],\n        \"semantic_type\": \"\",\n        \"description\": \"\"\n      }\n    },\n    {\n      \"column\": \"Headline\",\n      \"properties\": {\n        \"dtype\": \"string\",\n        \"num_unique_values\": 2831,\n        \"samples\": [\n          \"How the Guptas' brand turned toxic in South Africa\",\n          \"Pols And Celebs Now Blame Trump For Puerto Rico And Las Vegas\",\n          \"After 'bloody mess' jab, Macron eyes training, job insurance reform\"\n        ],\n        \"semantic_type\": \"\",\n        \"description\": \"\"\n      }\n    },\n    {\n      \"column\": \"Body\",\n      \"properties\": {\n        \"dtype\": \"string\",\n        \"num_unique_values\": 2863,\n        \"samples\": [\n          \"Ahead of Foster the People's show at the \\\"All Things Go\\\" festival in Washington, lead singer Mark Foster tells #GetPolitical how the Vegas shooting changed him.\",\n          \"This was a break from the usual \\u2014 for rock acts in general and this one in particular. It was \\u201cweird\\u201d and conceptual in all the ways Mr. Petty\\u2019s music was vividly normal. They were casting themselves as survivors of some pre-video age. I don\\u2019t think I actually heard \\u201cYou Got Lucky\\u201d because I had seen it. And it looked stoned.\\nAdvertisement Continue reading the main story\\nIn the week or so since his death last Monday, Mr. Petty has been memorialized as carrying some kind of classic-rock baton, which came as a surprise to me since all my first encounters with him happened on MTV. That\\u2019s a rock-critic distinction. And it makes sense for the purists to lay their claim. Mr. Petty has never sounded out of place in a block crammed with, say, \\u201cStairway to Heaven,\\u201d \\u201cHotel California\\u201d and \\u201cLegs.\\u201d But Mr. Petty belonged as much to MTV, alongside Duran Duran and Cyndi Lauper, as he did to the old-guard rigidity of whatever is meant by \\u201cclassic rock.\\u201d\\nIt\\u2019s true, there was a classicism to his approach to rock, whether he was on his own, recording with the Heartbreakers or with the Traveling Wilburys, a sort of rock-historical Avengers. But his elasticity and economy (a Tom Petty song rarely made it past the four-minute mark) and the sweet spot it deeply satisfied over and over, were hallmarks of pop.\\nMr. Petty\\u2019s nuttiest contribution to the video era was \\u201cDon\\u2019t Come Around Here No More,\\u201d from 1985. It riffs on the Mad Hatter\\u2019s tea party from \\u201cAlice in Wonderland\\u201d with Mr. Petty as the Hatter. The props (edible teacups, mushroom tuffets) and costumes were surreally proportioned and druggie. Mr. Petty briefly either shrinks inside his outfit or his clothes turn enormous. But what\\u2019s freaky about the clip is what a creep he pretends to be, leaping from one end of the enormous dining table to where Alice sits at the other and appearing to chase her around the checkerboard set.\\nEventually, she\\u2019s trapped in the teacup and her body turns into a cake that the band and the Hatter all find good enough to eat. So they hack into her. In the final shot, the camera pans from a screaming Alice to a close-up of Mr. Petty gobbling her up. He wears the same bemused expression the entire time and, courtesy of his sunglasses, never lets you see his eyes. He was opium-den Willy Wonka. It was a look he\\u2019d often return to.\\nNewsletter Sign Up Continue reading the main story Sign Up for the Louder Newsletter Every week, stay on top of the latest in pop and jazz with reviews, interviews, podcasts and more from The New York Times music critics. Please verify you're not a robot by clicking the box. Invalid email address. Please re-enter. You must select a newsletter to subscribe to. Sign Up You agree to receive occasional updates and special offers for The New York Times's products and services. Thank you for subscribing. An error has occurred. Please try again later. View all New York Times newsletters.\\nIf \\u201cDon\\u2019t Come Around Here\\u201d is your second or third Tom Petty music-video experience, it may have been formative. Michael Jackson was a werewolf-zombie. Madonna rolled around in gondolas. Prince did splits. Tom Petty ate people. I always found that funny given how little his face appeared to do. You\\u2019d watch these videos and wonder how such a pleasingly distinctive sound could come out of a mouth that never seemed to open.\\nMr. Petty\\u2019s approach to being on MTV was not to take it more seriously than he had to. His sense of frivolity came with a coating of stranger-danger. \\u201cI Won\\u2019t Back Down\\u201d kicks off with him, still outfitted like the Mad Hatter, lifting the lid of a gift box. The camera peers inside, revealing Mr. Petty and a band playing the song on a stark, black set. Before the guitars start to cry and chug, there\\u2019s a natural studio silence that always terrified me. Who knows why? But some of it is the dark-magician he\\u2019d styled himself as.\\nThe hat and the shades seemed to keep him in disguise. It took a long time to remember that when his career in music videos started \\u2014 with \\u201cRefugee,\\u201d to pick one hypnotically shabby-looking performance \\u2014 he looked like the average girl\\u2019s prom date: cuter than you thought. By the time of \\u201cInto the Great Wide Open,\\u201d from 1991, Mr. Petty wore another ridiculous hat and wire-rimmed glasses. This time the Mad Hatter was an omniscient narrator of the song\\u2019s music-biz blues. It\\u2019s an imaginative, fitfully humorous literalizing of the song. Johnny Depp plays Eddie, a clich\\u00e9 rock star, and Faye Dunaway has a ball portraying his back-stabbed manager. (Mr. Petty himself takes on about four different parts.) The music-video veteran Julian Temple directed it, and he worked with a poignant tinge of bloat. Accordingly to Mr. Petty, in Peter Bogdanovich\\u2019s exhaustingly thorough documentary, \\u201cRunnin\\u2019 Down a Dream,\\u201d Mr. Temple originally shot a 17-minute version.\\nThe videos got at a kind of truth about Mr. Petty. Lots of his songs featured power contests between himself and unspecified forces, like record labels. Commands like \\u201cdon\\u2019t,\\u201d \\u201cwon\\u2019t,\\u201d \\u201cstop\\u201d and \\u201cquit\\u201d recur. Maybe some of the clips were a fantasy of a straightforward control he struggled for in his music. Of course, as a listener, you often heard struggle\\u2019s opposite. You felt the joy of the music\\u2019s thrum and jangle. The songs took three-chord structure and made little origami. In videos, he never seemed impressed.\\nAdvertisement Continue reading the main story\\nThat was the other thing about them. Watching them was an exercise in cognitive dissonance. For the dramatization of the ecstasy a listener feels hearing a Tom Petty song, you had to go to the movies. You had to see Tom Cruise, in Cameron Crowe\\u2019s \\u201cJerry Maguire,\\u201d searching a car radio for a song that matched his money-loving mood, settling on \\u201cFree Fallin.\\u2019\\u201d It\\u2019s one of the most casually human things Mr. Cruise has done in a movie. He practically hits the roof of his car by the time the chorus comes around.\\nJerry, of course, is hearing the bright side of a song whose sense of loneliness never occurs to Mr. Cruise. But the movie gets the irony that, really, Jerry is, Wile E. Coyote, out of road to run.\\nThen there\\u2019s Brooke Smith in Jonathan Demme\\u2019s \\u201cThe Silence of the Lambs,\\u201d rocking out to \\u201cAmerican Girl.\\u201d There\\u2019s only one way to experience this song, and Smith\\u2019s is it: pounding on the steering wheel. Mr. Petty really is one of those artists who makes you feel like you could drive a car forever. Smith\\u2019s character is about to be beaten unconscious, trapped in a van and made to live at the bottom of a dry well. But for a brief moment, she\\u2019s happy, feeling the opposite of what Mr. Petty\\u2019s song is actually about: letdowns.\\nThat, of course, was his cleverness as a writer. He wrote major-key bummers. A listener didn\\u2019t know what was hitting him until he knew. Obviously, Mr. Petty knew. The young me was never ready for those old Petty videos. To a kid, that Wile E. Coyote feeling describes a cartoon. For everybody else, it\\u2019s just life.\",\n          \"European officials are increasingly trying to counter that narrative.\\nOn Wednesday, Margrethe Vestager, the European Union\\u2019s competition commissioner, ordered Luxembourg to collect around 250 million euros, or about $293 million, in unpaid taxes from Amazon. The ruling was tied to an agreement between the country and the company that the European Commission, the bloc\\u2019s executive arm, said dated to 2003.\\nThe order resembles a similar move the commission made last year, when it directed Ireland to reclaim around $15.2 billion from Apple.\\nIreland fears that such a decision could make it a less attractive place for multinational companies. In a sign of the disquiet in Dublin about that order, the Irish government failed to meet a January deadline to collect the money. It has appealed the ruling.\\nThat earned Ireland a forceful rebuke from Ms. Vestager.\\nA year later, \\u201cIreland has not recovered any money, not even in part,\\u201d she said, warning the country to accelerate its efforts to avoid \\u201cmore conflictual waters,\\u201d a reference to the prospects for a lengthy court battle.\\nAlthough litigation to force Ireland to recoup the taxes could drag on for years, the commission has successfully sued countries in the past and punished them with large fines for failing to recover money from companies that received illegal state aid.\\nAt the time of the ruling, Europe\\u2019s competition watchdogs said that Apple\\u2019s arrangements with Dublin were illegal and had ensured the iPhone maker paid virtually nothing on its European business in some years. Brussels argued that the deals allowed Apple to funnel profit from two Irish subsidiaries to an office in which it had \\u201cno employees, no premises, no real activities.\\u201d\\nThe Irish Department of Finance said that it \\u201chas never accepted the commission\\u2019s analysis\\u201d in the Apple case and that it was taken aback by Ms. Vestager\\u2019s decision to take the country to court. The department said it had \\u201cmade significant progress on this complex issue\\u201d and accused the European authorities of taking a \\u201cwholly unnecessary step.\\u201d\\nAdvertisement Continue reading the main story\\nApple did not immediately comment on the latest move, but has criticized the ruling in the past. The original decision has also drawn the ire of the United States Treasury Department.\\nNewsletter Sign Up Continue reading the main story Please verify you're not a robot by clicking the box. Invalid email address. Please re-enter. You must select a newsletter to subscribe to. Sign Up You agree to receive occasional updates and special offers for The New York Times's products and services. Thank you for subscribing. An error has occurred. Please try again later. View all New York Times newsletters.\\nIn the case of Amazon, the commission said Wednesday that Luxembourg had reduced its tax bill for more than eight years, from 2006 to 2014, and had conferred on the company a selective advantage. The arrangement essentially capped the amount of tax that the retailer paid, and relied on a method known as transfer pricing.\\nTypically, transfer pricing has been used by companies to assign revenues and profits to different business units depending on their location, role in the overall company and assets. But that system is harder to police with technology companies because many of their biggest assets, like intellectual property, are intangible. The European Commission said that Amazon had abused this system by sending most of its European revenue to a Luxembourg subsidiary that was not liable to pay corporate tax, helping the company cut its overall bill.\\nMs. Vestager said the arrangement had \\u201cno valid economic justification\\u201d and that the company had been able to \\u201cavoid taxation on almost three quarters of the profits it made from all Amazon sales in the E.U.\\u201d\\nAmazon and Luxembourg have denied the charges.\\n\\u201cWe believe that Amazon did not receive any special treatment from Luxembourg,\\u201d the company said in a statement on Wednesday, adding that it \\u201cpaid tax in full accordance with both Luxembourg and international tax law.\\u201d\\nAmazon said it would study the commission\\u2019s ruling and was considering whether to appeal.\\nIn a statement, Luxembourg\\u2019s finance ministry also contested Ms. Vestager\\u2019s ruling. \\u201cAs Amazon has been taxed in accordance with the tax rules applicable at the relevant time, Luxembourg considers that the company has not been granted incompatible state aid,\\u201d it said.\\nIt is not illegal in the European Union for member states to attempt to lure businesses by lowering corporate tax rates. But, as with Amazon\\u2019s agreement with Luxembourg, offering special deals to select companies that are not made available to rivals can amount to \\u201cillegal state aid.\\u201d\\nThe investigations are among several in which commission officials have looked into the affairs of Silicon Valley companies. Regulators in Brussels are challenging Google and Qualcomm over alleged antitrust violations, and officials in various countries have investigated Facebook over its handling of customers\\u2019 data.\\nMs. Vestager has made taxes a priority of her term as Europe\\u2019s competition commissioner. In that time, she has penalized Starbucks in the Netherlands and Anheuser-Busch InBev in Belgium. But Luxembourg has been a particular target: In 2015, she told the country to claw back about \\u20ac30 million from a Fiat Chrysler unit, while a case considering Luxembourg\\u2019s treatment of McDonald\\u2019s is also continuing.\\nAdvertisement Continue reading the main story\\n\\u201cI don\\u2019t think that we\\u2019re done,\\u201d Ms. Vestager said on Wednesday, adding that new laws were also necessary. \\u201cThe main part of the solution is of course that we have legislation that gives you a transparent tax landscape and enables national tax authorities to do their job.\\u201d\\nA broader overhaul may be afoot. The European Commission published proposals last month under which internet companies would be taxed in the countries where they generated revenue. Such a shift would mean the companies could not move their profits to jurisdictions with lower taxes.\\nA push in that direction could, however, prove complicated and carries several risks, said Clemens Fuest, the director of the Ifo Institute for Economic Research, a prominent think tank in Germany. In particular, European governments still might devise a host of new incentives to lure investment, while legislative changes at the European level could prompt retaliation by major trading partners.\\n\\u201cThere are real dangers if Brussels keeps acting unilaterally,\\u201d Mr. Fuest said.\\nThe European Union stepped up efforts to curb tax avoidance by companies and by individuals after the financial crisis, which forced many of the bloc\\u2019s member states to cut public services and raise tax rates. But opponents of the austerity programs argued that big corporations had not faced the same pressures, partly because they have long been able to shift their profits to low-tax countries.\"\n        ],\n        \"semantic_type\": \"\",\n        \"description\": \"\"\n      }\n    },\n    {\n      \"column\": \"Label\",\n      \"properties\": {\n        \"dtype\": \"number\",\n        \"std\": 0,\n        \"min\": 0,\n        \"max\": 1,\n        \"num_unique_values\": 2,\n        \"samples\": [\n          0,\n          1\n        ],\n        \"semantic_type\": \"\",\n        \"description\": \"\"\n      }\n    }\n  ]\n}"
            }
          },
          "metadata": {},
          "execution_count": 5
        }
      ]
    },
    {
      "cell_type": "markdown",
      "source": [
        "0-> real\n",
        "1- > fake"
      ],
      "metadata": {
        "id": "8yc68faXwIap"
      }
    },
    {
      "cell_type": "code",
      "source": [
        "df.shape"
      ],
      "metadata": {
        "colab": {
          "base_uri": "https://localhost:8080/"
        },
        "id": "fn3ASe4qcLoJ",
        "outputId": "e5eca27a-b2be-4a26-9a2d-d11118c54ffc"
      },
      "execution_count": 6,
      "outputs": [
        {
          "output_type": "execute_result",
          "data": {
            "text/plain": [
              "(4009, 4)"
            ]
          },
          "metadata": {},
          "execution_count": 6
        }
      ]
    },
    {
      "cell_type": "code",
      "source": [
        "df['Label'].value_counts()"
      ],
      "metadata": {
        "colab": {
          "base_uri": "https://localhost:8080/"
        },
        "id": "x5zemMNTcFNQ",
        "outputId": "863df65e-d19c-4d98-d81a-5a5a1a5c7e7e"
      },
      "execution_count": 7,
      "outputs": [
        {
          "output_type": "execute_result",
          "data": {
            "text/plain": [
              "Label\n",
              "0    2137\n",
              "1    1872\n",
              "Name: count, dtype: int64"
            ]
          },
          "metadata": {},
          "execution_count": 7
        }
      ]
    },
    {
      "cell_type": "code",
      "source": [
        "df.isnull().sum()"
      ],
      "metadata": {
        "colab": {
          "base_uri": "https://localhost:8080/"
        },
        "id": "TgUVmOi_cKFQ",
        "outputId": "af63b5d3-b85e-4146-9d34-c9a73588eb56"
      },
      "execution_count": 8,
      "outputs": [
        {
          "output_type": "execute_result",
          "data": {
            "text/plain": [
              "URLs         0\n",
              "Headline     0\n",
              "Body        21\n",
              "Label        0\n",
              "dtype: int64"
            ]
          },
          "metadata": {},
          "execution_count": 8
        }
      ]
    },
    {
      "cell_type": "code",
      "source": [
        "# replacing the null values with empty string\n",
        "df = df.fillna('')"
      ],
      "metadata": {
        "id": "PwZY1V42cSMZ"
      },
      "execution_count": 9,
      "outputs": []
    },
    {
      "cell_type": "code",
      "source": [
        "df['content'] = df['Headline'] + ' ' + df['Body']"
      ],
      "metadata": {
        "id": "47AQiqpDcYPB"
      },
      "execution_count": 10,
      "outputs": []
    },
    {
      "cell_type": "code",
      "source": [
        "df.head()"
      ],
      "metadata": {
        "colab": {
          "base_uri": "https://localhost:8080/",
          "height": 206
        },
        "id": "Pq8U581acyum",
        "outputId": "d8d11615-fe8c-400c-ec7f-b485a0ef4649"
      },
      "execution_count": 73,
      "outputs": [
        {
          "output_type": "execute_result",
          "data": {
            "text/plain": [
              "                                                URLs  \\\n",
              "0  http://www.bbc.com/news/world-us-canada-414191...   \n",
              "1  https://www.reuters.com/article/us-filmfestiva...   \n",
              "2  https://www.nytimes.com/2017/10/09/us/politics...   \n",
              "3  https://www.reuters.com/article/us-mexico-oil-...   \n",
              "4  http://www.cnn.com/videos/cnnmoney/2017/10/08/...   \n",
              "\n",
              "                                            Headline  \\\n",
              "0         Four ways Bob Corker skewered Donald Trump   \n",
              "1  Linklater's war veteran comedy speaks to moder...   \n",
              "2  Trump’s Fight With Corker Jeopardizes His Legi...   \n",
              "3  Egypt's Cheiron wins tie-up with Pemex for Mex...   \n",
              "4        Jason Aldean opens 'SNL' with Vegas tribute   \n",
              "\n",
              "                                                Body  Label  \\\n",
              "0  Image copyright Getty Images\\nOn Sunday mornin...      1   \n",
              "1  LONDON (Reuters) - “Last Flag Flying”, a comed...      1   \n",
              "2  The feud broke into public view last week when...      1   \n",
              "3  MEXICO CITY (Reuters) - Egypt’s Cheiron Holdin...      1   \n",
              "4  Country singer Jason Aldean, who was performin...      1   \n",
              "\n",
              "                                             content  \n",
              "0  four way bob corker skewer donald trump imag c...  \n",
              "1  linklat war veteran comedi speak modern americ...  \n",
              "2  trump fight corker jeopard legisl agenda feud ...  \n",
              "3  egypt cheiron win tie pemex mexican onshor oil...  \n",
              "4  jason aldean open snl vega tribut countri sing...  "
            ],
            "text/html": [
              "\n",
              "  <div id=\"df-38cc1734-e06e-47ca-816e-0ae1bebc4230\" class=\"colab-df-container\">\n",
              "    <div>\n",
              "<style scoped>\n",
              "    .dataframe tbody tr th:only-of-type {\n",
              "        vertical-align: middle;\n",
              "    }\n",
              "\n",
              "    .dataframe tbody tr th {\n",
              "        vertical-align: top;\n",
              "    }\n",
              "\n",
              "    .dataframe thead th {\n",
              "        text-align: right;\n",
              "    }\n",
              "</style>\n",
              "<table border=\"1\" class=\"dataframe\">\n",
              "  <thead>\n",
              "    <tr style=\"text-align: right;\">\n",
              "      <th></th>\n",
              "      <th>URLs</th>\n",
              "      <th>Headline</th>\n",
              "      <th>Body</th>\n",
              "      <th>Label</th>\n",
              "      <th>content</th>\n",
              "    </tr>\n",
              "  </thead>\n",
              "  <tbody>\n",
              "    <tr>\n",
              "      <th>0</th>\n",
              "      <td>http://www.bbc.com/news/world-us-canada-414191...</td>\n",
              "      <td>Four ways Bob Corker skewered Donald Trump</td>\n",
              "      <td>Image copyright Getty Images\\nOn Sunday mornin...</td>\n",
              "      <td>1</td>\n",
              "      <td>four way bob corker skewer donald trump imag c...</td>\n",
              "    </tr>\n",
              "    <tr>\n",
              "      <th>1</th>\n",
              "      <td>https://www.reuters.com/article/us-filmfestiva...</td>\n",
              "      <td>Linklater's war veteran comedy speaks to moder...</td>\n",
              "      <td>LONDON (Reuters) - “Last Flag Flying”, a comed...</td>\n",
              "      <td>1</td>\n",
              "      <td>linklat war veteran comedi speak modern americ...</td>\n",
              "    </tr>\n",
              "    <tr>\n",
              "      <th>2</th>\n",
              "      <td>https://www.nytimes.com/2017/10/09/us/politics...</td>\n",
              "      <td>Trump’s Fight With Corker Jeopardizes His Legi...</td>\n",
              "      <td>The feud broke into public view last week when...</td>\n",
              "      <td>1</td>\n",
              "      <td>trump fight corker jeopard legisl agenda feud ...</td>\n",
              "    </tr>\n",
              "    <tr>\n",
              "      <th>3</th>\n",
              "      <td>https://www.reuters.com/article/us-mexico-oil-...</td>\n",
              "      <td>Egypt's Cheiron wins tie-up with Pemex for Mex...</td>\n",
              "      <td>MEXICO CITY (Reuters) - Egypt’s Cheiron Holdin...</td>\n",
              "      <td>1</td>\n",
              "      <td>egypt cheiron win tie pemex mexican onshor oil...</td>\n",
              "    </tr>\n",
              "    <tr>\n",
              "      <th>4</th>\n",
              "      <td>http://www.cnn.com/videos/cnnmoney/2017/10/08/...</td>\n",
              "      <td>Jason Aldean opens 'SNL' with Vegas tribute</td>\n",
              "      <td>Country singer Jason Aldean, who was performin...</td>\n",
              "      <td>1</td>\n",
              "      <td>jason aldean open snl vega tribut countri sing...</td>\n",
              "    </tr>\n",
              "  </tbody>\n",
              "</table>\n",
              "</div>\n",
              "    <div class=\"colab-df-buttons\">\n",
              "\n",
              "  <div class=\"colab-df-container\">\n",
              "    <button class=\"colab-df-convert\" onclick=\"convertToInteractive('df-38cc1734-e06e-47ca-816e-0ae1bebc4230')\"\n",
              "            title=\"Convert this dataframe to an interactive table.\"\n",
              "            style=\"display:none;\">\n",
              "\n",
              "  <svg xmlns=\"http://www.w3.org/2000/svg\" height=\"24px\" viewBox=\"0 -960 960 960\">\n",
              "    <path d=\"M120-120v-720h720v720H120Zm60-500h600v-160H180v160Zm220 220h160v-160H400v160Zm0 220h160v-160H400v160ZM180-400h160v-160H180v160Zm440 0h160v-160H620v160ZM180-180h160v-160H180v160Zm440 0h160v-160H620v160Z\"/>\n",
              "  </svg>\n",
              "    </button>\n",
              "\n",
              "  <style>\n",
              "    .colab-df-container {\n",
              "      display:flex;\n",
              "      gap: 12px;\n",
              "    }\n",
              "\n",
              "    .colab-df-convert {\n",
              "      background-color: #E8F0FE;\n",
              "      border: none;\n",
              "      border-radius: 50%;\n",
              "      cursor: pointer;\n",
              "      display: none;\n",
              "      fill: #1967D2;\n",
              "      height: 32px;\n",
              "      padding: 0 0 0 0;\n",
              "      width: 32px;\n",
              "    }\n",
              "\n",
              "    .colab-df-convert:hover {\n",
              "      background-color: #E2EBFA;\n",
              "      box-shadow: 0px 1px 2px rgba(60, 64, 67, 0.3), 0px 1px 3px 1px rgba(60, 64, 67, 0.15);\n",
              "      fill: #174EA6;\n",
              "    }\n",
              "\n",
              "    .colab-df-buttons div {\n",
              "      margin-bottom: 4px;\n",
              "    }\n",
              "\n",
              "    [theme=dark] .colab-df-convert {\n",
              "      background-color: #3B4455;\n",
              "      fill: #D2E3FC;\n",
              "    }\n",
              "\n",
              "    [theme=dark] .colab-df-convert:hover {\n",
              "      background-color: #434B5C;\n",
              "      box-shadow: 0px 1px 3px 1px rgba(0, 0, 0, 0.15);\n",
              "      filter: drop-shadow(0px 1px 2px rgba(0, 0, 0, 0.3));\n",
              "      fill: #FFFFFF;\n",
              "    }\n",
              "  </style>\n",
              "\n",
              "    <script>\n",
              "      const buttonEl =\n",
              "        document.querySelector('#df-38cc1734-e06e-47ca-816e-0ae1bebc4230 button.colab-df-convert');\n",
              "      buttonEl.style.display =\n",
              "        google.colab.kernel.accessAllowed ? 'block' : 'none';\n",
              "\n",
              "      async function convertToInteractive(key) {\n",
              "        const element = document.querySelector('#df-38cc1734-e06e-47ca-816e-0ae1bebc4230');\n",
              "        const dataTable =\n",
              "          await google.colab.kernel.invokeFunction('convertToInteractive',\n",
              "                                                    [key], {});\n",
              "        if (!dataTable) return;\n",
              "\n",
              "        const docLinkHtml = 'Like what you see? Visit the ' +\n",
              "          '<a target=\"_blank\" href=https://colab.research.google.com/notebooks/data_table.ipynb>data table notebook</a>'\n",
              "          + ' to learn more about interactive tables.';\n",
              "        element.innerHTML = '';\n",
              "        dataTable['output_type'] = 'display_data';\n",
              "        await google.colab.output.renderOutput(dataTable, element);\n",
              "        const docLink = document.createElement('div');\n",
              "        docLink.innerHTML = docLinkHtml;\n",
              "        element.appendChild(docLink);\n",
              "      }\n",
              "    </script>\n",
              "  </div>\n",
              "\n",
              "\n",
              "<div id=\"df-fe5ad033-e99f-4c1d-83f1-b71060deaf98\">\n",
              "  <button class=\"colab-df-quickchart\" onclick=\"quickchart('df-fe5ad033-e99f-4c1d-83f1-b71060deaf98')\"\n",
              "            title=\"Suggest charts\"\n",
              "            style=\"display:none;\">\n",
              "\n",
              "<svg xmlns=\"http://www.w3.org/2000/svg\" height=\"24px\"viewBox=\"0 0 24 24\"\n",
              "     width=\"24px\">\n",
              "    <g>\n",
              "        <path d=\"M19 3H5c-1.1 0-2 .9-2 2v14c0 1.1.9 2 2 2h14c1.1 0 2-.9 2-2V5c0-1.1-.9-2-2-2zM9 17H7v-7h2v7zm4 0h-2V7h2v10zm4 0h-2v-4h2v4z\"/>\n",
              "    </g>\n",
              "</svg>\n",
              "  </button>\n",
              "\n",
              "<style>\n",
              "  .colab-df-quickchart {\n",
              "      --bg-color: #E8F0FE;\n",
              "      --fill-color: #1967D2;\n",
              "      --hover-bg-color: #E2EBFA;\n",
              "      --hover-fill-color: #174EA6;\n",
              "      --disabled-fill-color: #AAA;\n",
              "      --disabled-bg-color: #DDD;\n",
              "  }\n",
              "\n",
              "  [theme=dark] .colab-df-quickchart {\n",
              "      --bg-color: #3B4455;\n",
              "      --fill-color: #D2E3FC;\n",
              "      --hover-bg-color: #434B5C;\n",
              "      --hover-fill-color: #FFFFFF;\n",
              "      --disabled-bg-color: #3B4455;\n",
              "      --disabled-fill-color: #666;\n",
              "  }\n",
              "\n",
              "  .colab-df-quickchart {\n",
              "    background-color: var(--bg-color);\n",
              "    border: none;\n",
              "    border-radius: 50%;\n",
              "    cursor: pointer;\n",
              "    display: none;\n",
              "    fill: var(--fill-color);\n",
              "    height: 32px;\n",
              "    padding: 0;\n",
              "    width: 32px;\n",
              "  }\n",
              "\n",
              "  .colab-df-quickchart:hover {\n",
              "    background-color: var(--hover-bg-color);\n",
              "    box-shadow: 0 1px 2px rgba(60, 64, 67, 0.3), 0 1px 3px 1px rgba(60, 64, 67, 0.15);\n",
              "    fill: var(--button-hover-fill-color);\n",
              "  }\n",
              "\n",
              "  .colab-df-quickchart-complete:disabled,\n",
              "  .colab-df-quickchart-complete:disabled:hover {\n",
              "    background-color: var(--disabled-bg-color);\n",
              "    fill: var(--disabled-fill-color);\n",
              "    box-shadow: none;\n",
              "  }\n",
              "\n",
              "  .colab-df-spinner {\n",
              "    border: 2px solid var(--fill-color);\n",
              "    border-color: transparent;\n",
              "    border-bottom-color: var(--fill-color);\n",
              "    animation:\n",
              "      spin 1s steps(1) infinite;\n",
              "  }\n",
              "\n",
              "  @keyframes spin {\n",
              "    0% {\n",
              "      border-color: transparent;\n",
              "      border-bottom-color: var(--fill-color);\n",
              "      border-left-color: var(--fill-color);\n",
              "    }\n",
              "    20% {\n",
              "      border-color: transparent;\n",
              "      border-left-color: var(--fill-color);\n",
              "      border-top-color: var(--fill-color);\n",
              "    }\n",
              "    30% {\n",
              "      border-color: transparent;\n",
              "      border-left-color: var(--fill-color);\n",
              "      border-top-color: var(--fill-color);\n",
              "      border-right-color: var(--fill-color);\n",
              "    }\n",
              "    40% {\n",
              "      border-color: transparent;\n",
              "      border-right-color: var(--fill-color);\n",
              "      border-top-color: var(--fill-color);\n",
              "    }\n",
              "    60% {\n",
              "      border-color: transparent;\n",
              "      border-right-color: var(--fill-color);\n",
              "    }\n",
              "    80% {\n",
              "      border-color: transparent;\n",
              "      border-right-color: var(--fill-color);\n",
              "      border-bottom-color: var(--fill-color);\n",
              "    }\n",
              "    90% {\n",
              "      border-color: transparent;\n",
              "      border-bottom-color: var(--fill-color);\n",
              "    }\n",
              "  }\n",
              "</style>\n",
              "\n",
              "  <script>\n",
              "    async function quickchart(key) {\n",
              "      const quickchartButtonEl =\n",
              "        document.querySelector('#' + key + ' button');\n",
              "      quickchartButtonEl.disabled = true;  // To prevent multiple clicks.\n",
              "      quickchartButtonEl.classList.add('colab-df-spinner');\n",
              "      try {\n",
              "        const charts = await google.colab.kernel.invokeFunction(\n",
              "            'suggestCharts', [key], {});\n",
              "      } catch (error) {\n",
              "        console.error('Error during call to suggestCharts:', error);\n",
              "      }\n",
              "      quickchartButtonEl.classList.remove('colab-df-spinner');\n",
              "      quickchartButtonEl.classList.add('colab-df-quickchart-complete');\n",
              "    }\n",
              "    (() => {\n",
              "      let quickchartButtonEl =\n",
              "        document.querySelector('#df-fe5ad033-e99f-4c1d-83f1-b71060deaf98 button');\n",
              "      quickchartButtonEl.style.display =\n",
              "        google.colab.kernel.accessAllowed ? 'block' : 'none';\n",
              "    })();\n",
              "  </script>\n",
              "</div>\n",
              "\n",
              "    </div>\n",
              "  </div>\n"
            ],
            "application/vnd.google.colaboratory.intrinsic+json": {
              "type": "dataframe",
              "variable_name": "df",
              "summary": "{\n  \"name\": \"df\",\n  \"rows\": 4009,\n  \"fields\": [\n    {\n      \"column\": \"URLs\",\n      \"properties\": {\n        \"dtype\": \"string\",\n        \"num_unique_values\": 3352,\n        \"samples\": [\n          \"http://beforeitsnews.com/sports/2017/09/jetnation-tuesday-tidbits-jets-maye-have-something-with-safety-tandem-2701190.html\\n\\n\",\n          \"http://www.disclose.tv/news/this_marine_stole_a_truck_and_saved_dozens_of_vegas_shooting_victims_now_the_car_owner_sent_him_this_message/140445\",\n          \"http://beforeitsnews.com/entertainment/2017/09/ashley-j-announces-her-new-empowering-and-energetic-pop-single-unbreakable-releasing-10617-2670588.html\\r\\n\"\n        ],\n        \"semantic_type\": \"\",\n        \"description\": \"\"\n      }\n    },\n    {\n      \"column\": \"Headline\",\n      \"properties\": {\n        \"dtype\": \"string\",\n        \"num_unique_values\": 2831,\n        \"samples\": [\n          \"How the Guptas' brand turned toxic in South Africa\",\n          \"Pols And Celebs Now Blame Trump For Puerto Rico And Las Vegas\",\n          \"After 'bloody mess' jab, Macron eyes training, job insurance reform\"\n        ],\n        \"semantic_type\": \"\",\n        \"description\": \"\"\n      }\n    },\n    {\n      \"column\": \"Body\",\n      \"properties\": {\n        \"dtype\": \"string\",\n        \"num_unique_values\": 2864,\n        \"samples\": [\n          \"Russell Witcher talks about \\u2018Coming Out\\u2019 memoir, healing balm of sacred music\\n(Before It's News)\\nGospel Music Fever\\u2122 By Libra BoydGospel Music Fever Russell Witcher knows something about resilience. It is one lesson he generously shares in his recently released book, Coming Out of the\\u2026 Gospel Music Fever\\u2122 is your RED HOT SPOT for news, articles, interviews, reviews, and more on your favorite indie and major artists of every style and from every era!\\nSource: http://gospelmusicfever.blogspot.com/2017/09/russell-witcher-talks-about-coming-out.html\",\n          \"Bombardier's new Global 7000 business jet (rear) is seen parked next to a Learjet 75 during the National Business Aviation Association conference and expo at the Henderson Executive Airport in Henderson, Nevada, U.S., October 8, 2017. REUTERS/David Becker\\nLONDON (Reuters) - Britain hopes a provisional U.S. ruling imposing tariffs on Canadian aerospace manufacturer Bombardier (BBDb.TO) will not be politically influenced when new evidence is considered, UK Business Secretary Greg Clark said on Tuesday.\\nClark said he was confident the British government could successfully fight the complaint, which was brought by Boeing (BA.N) and could cost jobs in the British province of Northern Ireland.\\n\\u201cFollowing the initial determination, there is then a further call for evidence ... we look to the U.S. to make sure that this is a rigorous process and is not politically influenced,\\u201d Clark told lawmakers.\\nThe U.S. Commerce Department has raised proposed trade duties on Bombardier CSeries jets to nearly 300 percent, backing Boeing\\u2019s complaint that the Canadian company received illegal subsidies and dumped the planes at \\u201cabsurdly low\\u201d prices.\\nThe decision could effectively halt sales of Bombardier\\u2019s new plane to U.S. airlines by quadrupling the cost of the jets imported to the United States, although Clark said the jet did not directly compete with Boeing\\u2019s aircraft.\\nBritain's Business Secretary, Greg Clark, arrives for a meeting in Downing Street in central London, Britain October 9, 2017. REUTERS/Toby Melville\\nClark said British Prime Minister Theresa May had twice discussed the dispute with U.S. President Donald Trump, and that several members of the British government had reinforced their \\u201cserious concerns\\u201d with the U.S. administration over the ruling.\\nHe added Britain would discuss the ruling with the United States, Canada and the two companies in the coming days.\\nBombardier is the largest manufacturing employer in Northern Ireland, and the decision to impose duties on the planes has put 4,200 jobs at risk.\\nBut Britain is also a major base for Boeing. The company has recently begun constructing its first European parts manufacturing site in Sheffield, northern England, and Britain has warned that Boeing might miss out on future business over the row.\\n\\u201cBoeing has a reputation in this country that was beginning to grow in a positive way, through the investment in Sheffield and elsewhere,\\u201d Clark said.\\n\\u201cTo jeopardize that reputation and relationship by doing something that is completely unjustified is something that I don\\u2019t regard as being in the strategic interests of Boeing.\\u201d\",\n          \"Colin Kaepernick has not played in the NFL since March when he opted out of his San Francisco 49ers contract\\n\\\"This is what lynchings look like in 2016.\\\"\\nA video accompanies Colin Kaepernick's Instagram post. It begins as two white police officers wrestle a black man to the floor.\\nOne officer appears to cuff the man's hands behind his back. Another, positioned by the man's shoulders, tightly presses his head to the ground.\\nThe same officer moves one hand away, reaching for his gun. He points it to the man's chest, and fires.\\nAlton Sterling, 37, died of gunshot wounds to the chest and back.\\nFormer San Francisco 49ers quarterback Colin Kaepernick first protested against racial injustice and police brutality by kneeling down during the United States national anthem in the summer of 2016. Since then, a whole movement has grown around that gesture.\\nBBC Sport's Richard Conway, David Lockwood and Simon Clancy travelled to the US to investigate. Listen again to BBC Radio 5 live's programme, On Bended Knee, and watch a special Newsnight report.\\n\\\"Another murder in the streets because of the colour of a man's skin, at the hands of the people who they say will protect us,\\\" Kaepernick writes.\\n\\\"When will they be held accountable?\\\"\\nThe next day, 6 July 2016, another black man is shot dead by a police officer.\\nPhilando Castile, 32, is shot seven times during a traffic stop. He died in the driver's seat with his girlfriend beside him and her four-year-old daughter in the back.\\nPolice dashcam footage shows officer Jeronimo Yanez firing several times into the car. He pulled it over because of a broken brake light.\\nMedia playback is not supported on this device Police dashcam has been released of the Philando Castile shooting\\nThe microphone on Yanez's uniform picks up this exchange:\\nYanez: \\\"You have a licence and insurance?\\\"\\n[pause]\\nCastile: \\\"Sir, I do have to tell you I have a firearm on me.\\\"\\nYanez: \\\"OK, OK. Don't reach for it then. Don't pull it out.\\\"\\nCastile: \\\"I'm not pulling it out.\\\"\\nYanez: \\\"Don't pull it out.\\\"\\nAfter the shots were fired, Castile's girlfriend Diamond Reynolds took out her mobile phone and livestreamed from inside the car as the officer screamed for her not to move.\\n\\\"Please don't tell me my boyfriend just went like that,\\\" she says.\\n\\\"Please officer don't tell me you just did this to him. You shot four bullets into him, sir. He was just getting his licence.\\\"\\nReynolds is handcuffed and held in the back of a police car with her daughter, who says: \\\"Please stop cussing because I don't want you to get shooted. I can keep you safe.\\\"\\nMedia playback is not supported on this device 'I don't want you to get shooted': Inside police car after Castile shooting\\nThursday, 7 July 2016.\\nA black former member of the US Army Reserve kills five police officers as a Black Lives Matter march is held in Dallas. The march was organised to protest against the shootings of the previous two days.\\nMicah Johnson, 25, is himself killed following a stand-off with police, who sent remotely detonated explosives into the car park where he had taken refuge.\\nThe city's police chief David Brown reveals Johnson told a negotiator he had wanted to kill white people, especially white police officers, because he was angry about the recent shootings of black men by police.\\nHe is said to have shouted: \\\"How many did I get?\\\"\\nMedia playback is not supported on this device A step-by-step guide to Dallas shootings\\n'A very deep thinker'\\nThe tattoo across his chest reads: \\\"Against all odds.\\\"\\nKaepernick was adopted, a mixed-race baby raised by a white family. The Kaepernicks had two young sons who died because of heart defects. They wanted another child.\\nTheir boy grew up to become a superstar, and one of the most divisive figures in the United States.\\nAt high school he was a brilliant baseball pitcher, but the NFL was his focus. He could throw the ball. A quarterback.\\nKaepernick posted this photo with his mum Teresa with the caption: \\\"She showed me how my heart was supposed to radiate! Love you!\\\"\\nFirst, he had to reach the college game. It wasn't easy. Scouts from the University of Nevada - the only one to eventually offer him a scholarship - watched the clips his older brother had burned to DVD, but even they were not convinced.\\nThey took a gamble because they saw him dominate a high-school basketball game he really should have missed, having been struck down with fever the same day.\\nHe went to college. He studied for a degree in business management, excelled on the pitch, and opened his curious mind wide to the world.\\nDr Reginald Stewart spent 19 years at the University of Nevada, and knew Kaepernick during his time there.\\nHe told USA Today: \\\"He is very, very smart and very intellectual. He's a very deep thinker. What he's doing is absolutely and directly in line with how he's always communicated.\\n\\\"It's not like I turned on the TV and was like: 'Wow, where did this come from?' I was like, you know what, he has been thinking about these issues for at least the time I've known him. At some point, he made the decision that this was important enough for him to act.\\\"\\nKaepernick is drafted by the San Francisco 49ers in 2011. He leads them to the Super Bowl two years later, but they lose to the Baltimore Ravens.\\nHe continues to read widely - about the civil rights movement and post-colonial theory, Malcom X's autobiography and Franz Fanon's The Wretched Of The Earth.\\nHe begins to attend classes at the University of California, Berkeley, having befriended Ameer Hasan Loggins, who is working towards his doctorate in African Diaspora Studies.\\nIn August, Loggins wrote an article for The Athletic about their relationship. He compared Kaepernick to Ella Baker, the civil rights activist who died in 1986, aged 83.\\n\\\"She was a civil/human rights leader that was invested in developing a leaderful movement,\\\" Loggins wrote. \\\"She pushed the folks to politicise and mobilise the people via group-centred leadership.\\n\\\"Here I am, taking leadership cues from Ella Baker, and next thing I know I am in the inner circle of a passionate, intelligent and conscious NFL star with a tremendous heart and a righteous indignation over the treatment of the oppressed.\\n\\\"I met Kaepernick before he became a cultural icon and a lightning rod for both hope and hatred.\\n\\\"People that trace our connection to UC Berkeley assume he became politicised in my class. But Colin was aware, focused, well-read, eager to learn.\\\"\\nAnd then came three days in July last year.\\nThe perilous fight\\nThe singer pauses, hanging between verses. He knows - like the thousands standing around him in the stands, on the pitch and on the stage - that the Star-Spangled Banner, the American national anthem, is about to reach its highest point.\\nKaepernick is on the team bench. Sandwiched between two giant soft-drink barrels, he sits alone as thousands roar and whoop in appreciation.\\n\\\"I am not going to stand up to show pride in a flag for a country that oppresses black people and people of colour. To me, this is bigger than football and it would be selfish on my part to look the other way,\\\" he says after the pre-season match in August 2016.\\n\\\"There are bodies in the street and people getting paid leave and getting away with murder.\\\"\\nKaepernick, with his shirt number slightly obscured, is by the orange drinks cart\\nThis is not his first protest. But it is his first protest in team kit. And it is the first time he is asked about it.\\nHis silent, solitary gesture of solidarity makes a lot of people very angry. One of those is Nate Boyer. He used to be in the US Army Special Forces and is a former NFL player.\\n\\\"When I saw that, I felt like I was betrayed. It just hurt. It was extremely disgraceful for me. In my eyes you might as well burn the flag,\\\" he told the BBC.\\n\\\"That was my initial reaction before I stopped and thought: 'What is he so upset about that he would want to protest the symbol of what our country stands for - which is freedom of rights?'\\\"\\nBoyer decides to write an open letter to Kaepernick. And they meet.\\nMedia playback is not supported on this device Colin Kaepernick 'has potential to be icon' - Nate Boyer\\nThe NFL star - in 2014 he signed a contract that would have been worth up to $126m (\\u00a395.8m) over six years - actually sends a taxi to take Boyer from San Diego to San Francisco, about an eight-hour drive along the California coast.\\n\\\"I wanted him to stand - but I wanted him to stand because he feels like we are going in the right direction, like things are changing,\\\" Boyer says of their meeting.\\n\\\"I wanted him to understand the implications of what he was doing, and he listened. That was important, because we are at a time when people just shake their fists instead of trying to fix something together. We reached a position of consensus.\\\"\\nA week later, Kaepernick protests again. This time he is joined by his team-mate Eric Reid, and both men kneel while the national anthem plays.\\nBoyer, (far right) stands with his hand on his heart as the anthem plays. Kaerpernick kneels with team-mate Eric Reid (left)\\nBoyer stands next to them. On the same night, at another match, Jeremy Lane of the Seattle Seahawks remains seated for the anthem. The movement is growing.\\n\\\"It took courage for him to sit initially. It took more courage to bend his position a little bit,\\\" Boyer adds.\\n\\\"I told him if they knelt I would be next to them with my hand on my heart, because I support your right to peacefully protest in this country. That is what I fought for.\\\"\\n'I guess that makes me a proud bitch!'\\nMedia playback is not supported on this device Mr Trump attacked dissenting players at a rally in Alabama\\nIn late September, two matches in to the 2017 NFL season, President Donald Trump makes a speech.\\nHe says players who refuse to stand for the national anthem are \\\"sons of bitches\\\" who should be fired by their teams.\\nThe reaction to his words could not be more divided.\\nThere is support from many - who find the protest disrespectful - and there is condemnation from many others.\\nKaepernick's mother tweets: \\\"I guess that makes me a proud bitch!\\\"\\nNBA star LeBron James describes Trump as a \\\"bum\\\".\\nOver the weekend of 24-25 September, never before had the protest of refusing to stand during the national anthem attracted such attention. Scores of athletes, managers and coaches - across several sports - performed some kind of protest or gesture of solidarity while the national anthem played before their games.\\nSome linked arms, some stayed in the dressing room, many knelt. Travis Kelce of Kansas City Chiefs became the most prominent white player to kneel.\\n\\\"I will be proud of it until the day I die,\\\" he told BBC Sport.\\n\\\"Hopefully it creates talk and creates change. It's very important for this to actually become a change in society instead of it just being a badge on NFL players for making a protest.\\\"\\nBut players find themselves having to explain what their actions mean.\\nMany NFL supporters and the US public in general view the players as being unpatriotic, disrespectful of American values and/or the US military, and they agree with what Trump said.\\nMedia playback is not supported on this device Chiefs fans divided over players kneeling\\nOutside the stadiums, fans tell the BBC:\\n\\\"I'm 100% against it and 100% behind Trump. I don't come out to the football games to see political views. This is not the venue for the protest. I will boo them.\\\"\\n\\\"They need to respect the flag.\\\"\\n\\\"The message was never about the anthem, the message is about police brutality against African-Americans and that seems to have been lost.\\\"\\nEric Reid, who first kneeled with Kaepernick a year before, writes in the New York Times: \\\"It baffles me that our protest is still being misconstrued as disrespectful to the country, flag and military personnel. We chose it because it's exactly the opposite.\\n\\\"It has always been my understanding that the brave men and women who fought and died for our country did so to ensure that we could live in a fair and free society, which includes the right to speak out in protest.\\\"\\nBut Kaepernick himself is absent. Why?\\n'A prisoner of the moment'\\nTwo NFL players walk into a computer game shop. It's not a joke, this really happened:\\nKeith Marshall and Rob Kelley of the Washington Redskins were in Dulles, just outside the nation's capital, when they saw a young boy wearing Kaepernick's number seven San Francisco 49ers jersey. They complimented him on it.\\nIn conversation, the 10-year-old Jaden explains why he is there. He has been saving up for an Xbox, and is keeping tabs on the price - he can't yet afford it.\\nSo they buy it for him - with his grandma's permission of course.\\nJaden explains why he has a Kaepernick jersey.\\n\\\"I liked how he wasn't afraid to show what he thought. He risked getting fired, which was a big thing. I wouldn't even do that, but he did, and I really like him for standing out.\\n\\\"I don't know if people agree with it, but he just doesn't care what people say and that's inspired me and probably inspired other people.\\\"\\nMarshall and Kelley also bought Jaden a game - but it wasn't Madden, the official NFL computer game.\\nHad it been, Jaden would not have found his favourite player. Kaepernick is no longer in the game. In March, he opted out of his contract with the 49ers. He is now 29 years old and a free agent. But off the pitch, he is busy.\\n\\\"His family is probably able to do whatever they want, but not everybody is able to have the stuff that we have the luxury of having,\\\" said Kelley (right)\\nHe has been donating money to various charities and projects across the United States - he has pledged to donate $1m (\\u00a3750,000) in total - and has helped set up an educational campaign called Know Your Rights.\\nIn late September, Sports Illustrated published a front cover on how sport has united following Trump's speech.\\nThere was no Kaepernick there either.\\nHe is not injured, and should still be capable of performing at the highest level. He has not spoken to the media for months. There are reports that team owners are refusing to sign him - despite coaches wanting to.\\nNBA star Steph Curry was featured on the cover, after he said he would not accept an invitation to the White House. Trump later said Curry had been 'uninvited'.\\nColin Kaepernick was not featured on the front of this month's Sports Illustrated magazine\\nWhen he was asked about Kaepernick's omission from the Sports Illustrated front cover, Curry described him as \\\"a prisoner of the moment\\\".\\n\\\"That was terrible,\\\" he said. \\\"The real people who are understanding exactly what's going on and who's really been active and vocal and truly making a difference, if you don't have Kaepernick front and centre on that, something's wrong.\\\"\\nBoyer, who was there when Kaepernick 'took a knee' for the first time, has not spoken to him for a while either - not since the Super Bowl, in February.\\nHe says that \\\"there was never any falling out as such\\\", but he does worry about him \\\"being pulled so far in one direction that there is never going to be any room to grow and really move forward\\\".\\nHe believes Kaepernick \\\"may never play again\\\" but adds: \\\"I don't fear that, because he is in a much more important position now.\\n\\\"If he is able to embrace those who disagree with him and love them, much like Martin Luther King did, then Colin has the potential to be something like that.\\n\\\"He could be the face of something and really move this conversation forward - if he is willing to listen.\\n\\\"It is going to take swallowing of pride and humility, but I would rather see him move into this realm than play again, because he has been quiet for a long time.\\n\\\"We need you to be a part of this because you started this.\\\"\\nMedia playback is not supported on this device Trump comments 'inflammatory' - Kraft\\nWhere will it end? Friday night football in 'Muck City'\\nGo past the Trump International golf course, past the country and polo club, past Twentymile Bend, and out into the sugarcane fields.\\nWelcome to Belle Glade. 'Her soil is her fortune.'\\nIt is a small agricultural town, inland from the opulent coastal resort of Palm Beach, where Donald Trump's Mar-a-Lago residence is situated.\\nBelle Glade and its surrounding area is known as Muck City, population about 20,000. It is also a hotbed for American football talent.\\nGlades Central High School counts dozens of NFL players among its alumni\\nOn Friday night, 17-year-old Kortney Ware was among the Glades Central Raiders lining up to face a team from Lake Worth, down on the coast. They won 50-8. Before the match, as the anthem played, Ware took a knee.\\n\\\"I did it for the police brutality,\\\" he told BBC Sport's Richard Conway.\\n\\\"People have got to speak up. I am tired of seeing us black people killed, especially young people. Every day somebody black getting killed for little stuff. It's tough for us black people. So we're standing up.\\\"\\nSome schools in the United States have vowed to punish players who refuse to stand for the national anthem.\\nAnd on Tuesday, reports suggested NFL owners, at a league meeting next week, are planning to introduce rules to force players to stand.\\nThe Raiders' coach, Jessie Hester, himself a former NFL player, says he \\\"fully supports\\\" the protests, and his players' right to do the same.\\nMedia playback is not supported on this device 'I'm sick of young black men being killed'\\n\\\"There are no better people to do it than stars,\\\" he adds.\\n\\\"There is social injustice in this country that we need to address and the guys in the NFL have a platform. People listen to them.\\n\\\"These players here will want them to continue to speak out and be heard, because that's the only way change can happen.\\\"\\nWare says Kaepernick was \\\"definitely\\\" an inspiration, and he hopes the influence of his kneel gesture will continue to grow.\\n\\\"A lot of people are doing it now. Even the managers doing it too. That's amazingly successful,\\\" he adds.\\n\\\"This will lead to better things, open people's eyes. We need even more people doing what we doing. Everybody speak up. Please. It's not always about the football.\\n\\\"It's supposed to be the land of the free. But it's not been free.\\\"\\nAdditional reporting: Simon Clancy, Richard Conway, David Lockwood\"\n        ],\n        \"semantic_type\": \"\",\n        \"description\": \"\"\n      }\n    },\n    {\n      \"column\": \"Label\",\n      \"properties\": {\n        \"dtype\": \"number\",\n        \"std\": 0,\n        \"min\": 0,\n        \"max\": 1,\n        \"num_unique_values\": 2,\n        \"samples\": [\n          0,\n          1\n        ],\n        \"semantic_type\": \"\",\n        \"description\": \"\"\n      }\n    },\n    {\n      \"column\": \"content\",\n      \"properties\": {\n        \"dtype\": \"string\",\n        \"num_unique_values\": 3523,\n        \"samples\": [\n          \"turkey urg u review visa suspens lira stock tumbl ankara reuter turkey urg unit state monday review suspens visa servic arrest u consul employe sharpli escal tension two nato alli drove turkey currenc stock lower relat ankara washington plagu disput u support kurdish fighter syria turkey call extradit u base cleric indict turkish former minist u court last week arrest turkish employe u consul istanbul mark fresh low turkey said employe link u base muslim cleric fethullah gulen blame ankara fail militari coup juli u embassi ankara condemn charg baseless announc sunday night halt non immigr visa servic turkey reassess turkey commit secur mission staff within hour ankara announc take measur u citizen seek visa turkey justic minist abdulhamit gul said washington seriou secur concern mission turkey step would taken address issu regard arrest consul employe decis turkish judiciari made gul told haber televis tri turkish citizen crime commit turkey right relat coverag turkey erdogan say u decis suspend visa servic upset turkish foreign ministri summon u diplomat urg unit state lift visa suspens say caus unnecessari tension presid tayyip erdogan also critic u move u embassi ankara take decis implement upset erdogan told news confer visit ukrain state run anadolu news agenc said anoth u consul worker summon testifi wife daughter suspect link gulen said emerg question metin topuz employe arrest last week investor rattl woman wait front visa applic offic entranc u embassi ankara turkey octob reuter umit bekta diplomat spat spook investor lira drop percent stood dollar quot overnight touch level main bist stock index fell much percent close day percent point airlin share particularli hard hit flag carrier turkish airlin fall percent central bank said follow develop close woman walk past u embassi ankara turkey octob reuter umit bekta look like realli seriou situat said blue bay asset manag strategist timothi ash ad central bank would need move quickli calm market nerv possibl hike interest rate someth presid tayyip erdogan resist turkey lead busi associ tusiad warn disput would harm bilater econom social cultur tie call disagr settl calmli disput unit state coincid deep strain turkey relat germani anoth key alli turkish militari activ syrian iraqi border though market impact far limit u turkish tension risen recent month u militari support kurdish ypg fighter syria consid ankara extens ban pkk wage insurg three decad southeast turkey turkey also press far vain unit state extradit muslim cleric fethullah gulen view ankara mastermind behind fail coup peopl kill gulen deni involv friction unit state also arisen indict last month u court turkey former economi minist zafer caglayan charg conspir violat u sanction iran sinan ulgen analyst former turkish diplomat said underli disput creat crisi confid made latest fallout particularli bitter harsh result build said consid sole reaction detent consul employe addit report sezer istanbul gulsen solak ankara write domin evan edit daren butler gareth jone\",\n          \"austria islamophob burqa ban crimin muslim women austria islamophob burqa ban crimin muslim women reader think stori fact add two cent news muslim women cover face crimin restrict home said carla amina bhagajati islam religi commun austria sourc http www carbon tv news muslim woman forc remov veil austrian burqa ban implement\"\n        ],\n        \"semantic_type\": \"\",\n        \"description\": \"\"\n      }\n    }\n  ]\n}"
            }
          },
          "metadata": {},
          "execution_count": 73
        }
      ]
    },
    {
      "cell_type": "code",
      "source": [
        "#seperating the content and the labels"
      ],
      "metadata": {
        "id": "cF9-WDw8czsu"
      },
      "execution_count": 12,
      "outputs": []
    },
    {
      "cell_type": "code",
      "source": [
        "X = df.drop(columns = 'Label',axis = 1)"
      ],
      "metadata": {
        "id": "5A5j5P35c9M-"
      },
      "execution_count": 13,
      "outputs": []
    },
    {
      "cell_type": "code",
      "source": [
        "Y = df['Label']"
      ],
      "metadata": {
        "id": "20nq1Ck2dPMw"
      },
      "execution_count": 14,
      "outputs": []
    },
    {
      "cell_type": "code",
      "source": [
        "print(X)"
      ],
      "metadata": {
        "colab": {
          "base_uri": "https://localhost:8080/"
        },
        "id": "kdV6NWBzdUvR",
        "outputId": "0d402482-339a-4e3e-b75e-d13d8a49a9a5"
      },
      "execution_count": 15,
      "outputs": [
        {
          "output_type": "stream",
          "name": "stdout",
          "text": [
            "                                                   URLs  \\\n",
            "0     http://www.bbc.com/news/world-us-canada-414191...   \n",
            "1     https://www.reuters.com/article/us-filmfestiva...   \n",
            "2     https://www.nytimes.com/2017/10/09/us/politics...   \n",
            "3     https://www.reuters.com/article/us-mexico-oil-...   \n",
            "4     http://www.cnn.com/videos/cnnmoney/2017/10/08/...   \n",
            "...                                                 ...   \n",
            "4004  http://beforeitsnews.com/sports/2017/09/trends...   \n",
            "4005  http://beforeitsnews.com/u-s-politics/2017/10/...   \n",
            "4006  https://www.activistpost.com/2017/09/ron-paul-...   \n",
            "4007  https://www.reuters.com/article/us-china-pharm...   \n",
            "4008  http://beforeitsnews.com/u-s-politics/2017/10/...   \n",
            "\n",
            "                                               Headline  \\\n",
            "0            Four ways Bob Corker skewered Donald Trump   \n",
            "1     Linklater's war veteran comedy speaks to moder...   \n",
            "2     Trump’s Fight With Corker Jeopardizes His Legi...   \n",
            "3     Egypt's Cheiron wins tie-up with Pemex for Mex...   \n",
            "4           Jason Aldean opens 'SNL' with Vegas tribute   \n",
            "...                                                 ...   \n",
            "4004                                    Trends to Watch   \n",
            "4005  Trump Jr. Is Soon To Give A 30-Minute Speech F...   \n",
            "4006        Ron Paul on Trump, Anarchism & the AltRight   \n",
            "4007  China to accept overseas trial data in bid to ...   \n",
            "4008  Vice President Mike Pence Leaves NFL Game Beca...   \n",
            "\n",
            "                                                   Body  \\\n",
            "0     Image copyright Getty Images\\nOn Sunday mornin...   \n",
            "1     LONDON (Reuters) - “Last Flag Flying”, a comed...   \n",
            "2     The feud broke into public view last week when...   \n",
            "3     MEXICO CITY (Reuters) - Egypt’s Cheiron Holdin...   \n",
            "4     Country singer Jason Aldean, who was performin...   \n",
            "...                                                 ...   \n",
            "4004  Trends to Watch\\n% of readers think this story...   \n",
            "4005  Trump Jr. Is Soon To Give A 30-Minute Speech F...   \n",
            "4006                                                      \n",
            "4007  SHANGHAI (Reuters) - China said it plans to ac...   \n",
            "4008  Vice President Mike Pence Leaves NFL Game Beca...   \n",
            "\n",
            "                                                content  \n",
            "0     Four ways Bob Corker skewered Donald Trump Ima...  \n",
            "1     Linklater's war veteran comedy speaks to moder...  \n",
            "2     Trump’s Fight With Corker Jeopardizes His Legi...  \n",
            "3     Egypt's Cheiron wins tie-up with Pemex for Mex...  \n",
            "4     Jason Aldean opens 'SNL' with Vegas tribute Co...  \n",
            "...                                                 ...  \n",
            "4004  Trends to Watch Trends to Watch\\n% of readers ...  \n",
            "4005  Trump Jr. Is Soon To Give A 30-Minute Speech F...  \n",
            "4006       Ron Paul on Trump, Anarchism & the AltRight   \n",
            "4007  China to accept overseas trial data in bid to ...  \n",
            "4008  Vice President Mike Pence Leaves NFL Game Beca...  \n",
            "\n",
            "[4009 rows x 4 columns]\n"
          ]
        }
      ]
    },
    {
      "cell_type": "code",
      "source": [
        "print(Y)"
      ],
      "metadata": {
        "colab": {
          "base_uri": "https://localhost:8080/"
        },
        "id": "cVSkc_SvdVl5",
        "outputId": "bf14919e-57fc-403e-9a99-aae09fd55ead"
      },
      "execution_count": 16,
      "outputs": [
        {
          "output_type": "stream",
          "name": "stdout",
          "text": [
            "0       1\n",
            "1       1\n",
            "2       1\n",
            "3       1\n",
            "4       1\n",
            "       ..\n",
            "4004    0\n",
            "4005    0\n",
            "4006    0\n",
            "4007    1\n",
            "4008    0\n",
            "Name: Label, Length: 4009, dtype: int64\n"
          ]
        }
      ]
    },
    {
      "cell_type": "code",
      "source": [
        "# Stemming"
      ],
      "metadata": {
        "id": "uSzywzTOdXEZ"
      },
      "execution_count": 17,
      "outputs": []
    },
    {
      "cell_type": "code",
      "source": [
        "# It is the process of reducing a word into its root word\n",
        "# actor,actress ,acting into act"
      ],
      "metadata": {
        "id": "9tD6uCYPda4p"
      },
      "execution_count": 18,
      "outputs": []
    },
    {
      "cell_type": "code",
      "source": [
        "port_stem = PorterStemmer()"
      ],
      "metadata": {
        "id": "C2tu3v9TdgpC"
      },
      "execution_count": 19,
      "outputs": []
    },
    {
      "cell_type": "code",
      "source": [
        "def stemming(content):\n",
        "    # Replace non-alphabetic characters with spaces\n",
        "    stemmed_content = re.sub('[^a-zA-Z]', ' ', content)\n",
        "\n",
        "    # Convert to lowercase and split into words\n",
        "    stemmed_content = stemmed_content.lower().split()\n",
        "\n",
        "    # Apply stemming and remove stopwords\n",
        "    stemmed_content = [port_stem.stem(word) for word in stemmed_content if word not in stopwords.words('english')]\n",
        "\n",
        "    # Join the stemmed words back into a string\n",
        "    stemmed_content = ' '.join(stemmed_content)\n",
        "\n",
        "    return stemmed_content"
      ],
      "metadata": {
        "id": "ymHgYMZIi4c5"
      },
      "execution_count": 20,
      "outputs": []
    },
    {
      "cell_type": "markdown",
      "source": [
        "\"The quick brown\" as After splitting: ['The', 'quick', 'brown']\n",
        "\n",
        "After joining: The quick brown"
      ],
      "metadata": {
        "id": "DYaVgFLYjv1s"
      }
    },
    {
      "cell_type": "markdown",
      "source": [
        "Suppose content initially contains a string like \"Hello! How are you? I'm doing well.\". After applying re.sub('[^a-zA-Z]', ' ', content), the stemmed_content would be \"Hello How are you I m doing well \", where punctuation and other non-alphabetical characters have been replaced by spaces.\n",
        "\n",
        "The purpose of this line of code is to remove or replace all non-alphabetical characters (characters that are not letters) from the content string with spaces.\n",
        "\n",
        "This type of transformation is commonly used as a preprocessing step in natural language processing (NLP) tasks, especially when dealing with text data."
      ],
      "metadata": {
        "id": "3DBHYLAnfdqI"
      }
    },
    {
      "cell_type": "code",
      "source": [
        "df['content'] = df['content'].apply(stemming)"
      ],
      "metadata": {
        "id": "GYef5FmLeOu3"
      },
      "execution_count": 21,
      "outputs": []
    },
    {
      "cell_type": "code",
      "source": [
        "print(df['content'])"
      ],
      "metadata": {
        "colab": {
          "base_uri": "https://localhost:8080/"
        },
        "id": "pgf05V0Dhmcn",
        "outputId": "586b5245-355a-43a4-e814-46b20096d69a"
      },
      "execution_count": 22,
      "outputs": [
        {
          "output_type": "stream",
          "name": "stdout",
          "text": [
            "0       four way bob corker skewer donald trump imag c...\n",
            "1       linklat war veteran comedi speak modern americ...\n",
            "2       trump fight corker jeopard legisl agenda feud ...\n",
            "3       egypt cheiron win tie pemex mexican onshor oil...\n",
            "4       jason aldean open snl vega tribut countri sing...\n",
            "                              ...                        \n",
            "4004    trend watch trend watch reader think stori fac...\n",
            "4005    trump jr soon give minut speech trump jr soon ...\n",
            "4006                       ron paul trump anarch altright\n",
            "4007    china accept oversea trial data bid speed drug...\n",
            "4008    vice presid mike penc leav nfl game anti ameri...\n",
            "Name: content, Length: 4009, dtype: object\n"
          ]
        }
      ]
    },
    {
      "cell_type": "code",
      "source": [
        "X = df['content'].values\n",
        "Y = df['Label'].values"
      ],
      "metadata": {
        "id": "wXTaWfKLknkr"
      },
      "execution_count": 53,
      "outputs": []
    },
    {
      "cell_type": "code",
      "source": [
        "print(X)"
      ],
      "metadata": {
        "colab": {
          "base_uri": "https://localhost:8080/"
        },
        "id": "DDHllP0Bk6bm",
        "outputId": "4feaf212-db0a-4f73-af5b-59c0a2773778"
      },
      "execution_count": 54,
      "outputs": [
        {
          "output_type": "stream",
          "name": "stdout",
          "text": [
            "['four way bob corker skewer donald trump imag copyright getti imag sunday morn donald trump went twitter tirad member parti exactli huge news far first time presid turn rhetor cannon rank time howev attack particularli bite person essenti call tennesse senat bob corker chair power senat foreign relat committe coward run elect said mr corker beg presid endors refus give wrongli claim mr corker support iranian nuclear agreement polit accomplish unlik colleagu mr corker free worri immedi polit futur hold tongu skip twitter post senbobcork shame white hous becom adult day care center someon obvious miss shift morn senat bob corker senbobcork octob report end though spoke new york time realli let presid four choic quot tennesse senat interview time particularli damn know presid tweet thing true know everyon know realli sugarcoat one mr corker flat say presid liar everyon know senat particular challeng mr trump insist unsuccess plead endors accus much broader mr corker presid use someth akin alli tennessean mr trump short list vice presid secretari state imag copyright getti imag imag caption bob corker trump campaign ralli juli day seemingli much like mr corker go anywher anytim soon although run elect senat chair power committe januari presid margin success chamber razor thin democrat continu stand togeth opposit afford lose two vote republican senat healthcar reform collaps juli could bad news tax effort mr corker go presid favour look except peopl vast major caucu understand deal frustrat congress grow republican feel presid inabl focu advanc agenda get sharpli divid parti come togeth plan repeal obamacar reform tax boost infrastructur spend challeng enough presid stir unrel controversi seemingli daili basi make thing harder one presid gift abil shake neg stori quickli move differ subject work brilliantli presidenti campaign less effect legisl slow grind imag copyright getti imag imag caption corker confirm hear secretari state rex tillerson month republican congress grumbl background among occasion someon like mr mcconnel lament presid understand senat work mr corker state loud clear say almost everyon agre kept silent still hope pass conserv legisl presid sign fear mr trump legion back primari challeng next year stay home gener elect calculu ever chang becom riskier stay silent speak mr trump real troubl lot peopl think kind good cop bad cop act underway true time mr trump appear undercut secretari state rex tillerson other administr attempt use soft diplomaci deal rang intern crise war taliban afghanistan iran complianc multin nuclear agreement ongo disput qatar persian gulf neighbour unrest venezuela recent north korea continu ballist missil test target presid offhand remark twitter invect administr defend said part mr trump strategi updat version nixon era madman theori presid forc adversari give way fear unpredict us leader action mr corker buy strategi say possibl chao hope mr trump senior advis abl avoid know fact everi singl day white hous situat tri contain grow collect john kelli face palm photo serv testament chief staff report frustrat deal presid mr trump goe script prais torch bear white nationalist ralli charlottesvil mr kelli captur close eye rub arch nose attempt stave migrain imag copyright reuter imag caption white hous chief staff john kelli look us presid donald trump speak campaign ralli presid call north korean leader crimin speech unit nation mr kelli straight buri face hand white hous commun team often left scrambl tri explain refram indel presidenti joke remark directli contradict offici administr line even though mr kelli brought disciplin west wing staff presid still march beat drum continu unfett access phone twitter app bob corker latest person politician journalist sport star celebr feel mercuri presid uncontain ire'\n",
            " 'linklat war veteran comedi speak modern america say star london reuter last flag fli comedi drama vietnam war veteran reson trump america despit perhap period set actor bryan cranston said sunday screen london film festiv set unit state decemb u forc iraq drag saddam hussein spider hole stori three age former servicemen reunit buri son one kill action presid donald trump say could total destroy north korea character dinner militari command calm storm cranston said last flag fli time remind effect normal american ill advis militari campaign think lot relev today sens today clear cut far intent govern militari cranston acclaim lead role tv drama break bad told reuter world war two good war clear present danger stop mad man sinc vietnam iraq lot question among troop citizen right thing purpos cast member bryan cranston r director richard linklat pose festiv director clair stewart arriv premier last flag fli british film institut bfi london film festiv odeon leicest squar london britain octob reuter afolabi sotund last flag fli produc amazon studio direct co written richard linklat whose greatest critic acclaim naturalist sunset trilog boyhood slew oscar nomin linklat also made comedi includ school rock everybodi want skirt chase undergradu last flag fli fall somewher two genr cast member bryan cranston r pose director richard linklat arriv premier last flag fli british film institut bfi london film festiv odeon leicest squar london britain octob reuter afolabi sotund drama comedi stem chemistri three lead play big hollywood name steve carel awkward shi one assum quiet withdrawn even loss son cranston play foul mouth hard drink bar owner best custom laurenc fishburn man found god becom evangel preacher prefer forget sex drug indulg back nam vaniti fair richard lawson said film abil honor footsoldi critic war sent fight could hit academi sweet spot satisfi conserv oldster younger leftier type critic said last flag fli lack light touch linklat best work guardian benjamin lee call half bake tv movi masquerad oscarbait curiou misstep oscar nomin indi auteur write robin pomeroy edit david evan'\n",
            " 'trump fight corker jeopard legisl agenda feud broke public view last week mr corker said mr trump advis guard chao presid retali sunday say retir senat gut run anoth term mr corker respond twitter hour later say white hous becom adult day care center unload interview new york time say public mani republican colleagu say privat presid danger errat treat high offic like realiti show contain staff reckless enough put countri path world war iii mr corker moder tempera well ideolog measur occasion critic mr trump month hope influenc foreign polici evid feel liber decid run third term incumb republican rush microphon echo comment monday sever made littl attempt hide irrit mr trump attack mr corker import part team particularli import part budget debat floor next week mr mcconnel said pointedli event hazard ky scott pruitt head environment protect agenc bob corker leader congress issu divers deficit reduct combat terror man unwav integr senat rob portman republican ohio said statement go accomplish econom nation secur agenda go work togeth period mr mcconnel associ blunter express leadership frustrat presid disrupt parti uniti republican push tax cut go hard matter said billi piper mr mcconnel former chief staff took guy one linchpin inciner reason advertis continu read main stori white hous spent monday tell alli mr corker respons fight mr trump senat attent seek obstructionist newslett sign continu read main stori pleas verifi robot click box invalid email address pleas enter must select newslett subscrib sign agre receiv occasion updat special offer new york time product servic thank subscrib error occur pleas tri later view new york time newslett find tweet like incred irrespons kellyann conway presid counselor told fox news refer mr corker post respons mr trump sunday add insult mainstream media presid detractor almost year elect still accept elect result add abil cover speak presid unit state way presid talk vice presid mike penc left defend mr trump call empti rhetor baseless attack say presid accomplish lot intern today nation stand without apolog leader free world mr penc said statement american leadership world stage look like amount critic home diminish result mr trump grown frustrat senat republican includ lash mr mcconnel get job done legisl repeal presid barack obama health care program repeatedli block engag open conflict senat john mccain jeff flake arizona lindsey graham south carolina lisa murkowski alaska among other although monday went golf mr graham republican senat share mr trump frustrat gridlock senat want thing move quickli said senat thom tilli north carolina elect peopl frustrat lack result senat david perdu georgia anoth member class even outspoken vent fellow republican derail health care legisl peopl upset republican senat back agenda presid said mr trump former chief strategist stephen k bannon act say presid interest organ rebellion republican establish recruit candid challeng incumb senat primari next year think presid trump behind close door mr bannon said fox news monday night refer mr corker comment call senat resign mr penc chief staff talk purg republican loyal mr trump may keep republican board even agre mr corker senat doubt presid ask john feeheri longtim republican congression aid probabl true also larg irrelev presid find way get stuff done otherwis face wrath voter someth bob corker longer worri effect mr mccain ms murkowski senat susan collin main alreadi free agent mani issu regular defect mr corker would make presid abil pass legisl much harder absent bipartisan deal democrat advertis continu read main stori chairman senat foreign relat committe mr corker could block confirm new secretari state mr trump push embattl chief diplomat rex w tillerson also presum would play key role decis whether tear iran nuclear deal senat republican frustrat trump start boil said alex conant former senat republican aid sure feel mutual insid white hous relationship alway tenuou best corker comment new low point get lot done would easier everyon get along mr conant said cours fact get along also make harder get anyth done'\n",
            " ... 'ron paul trump anarch altright'\n",
            " 'china accept oversea trial data bid speed drug approv shanghai reuter china said plan accept data oversea clinic trial speed approv drug potenti boon intern drugmak well patient often face lengthi delay new medicin reach market move outlin cabinet late sunday seek address high medicin cost access healthcar china popul nearli billion past five year china approv innov new drug one third number develop market accept oversea clinic data help global drugmak time grow competit chines rival world second biggest pharmaceut market well pressur author anxiou rein price overal china support scientif innov drug medic devic lack qualiti product market still fall short top intern level draft propos said must speed examin approv urgent need drug medic devic cabinet also said would look improv protect medic intellectu properti boost number qualiti clinic trial test center china propos contain timelin implement want make drug industri larg scale strong make competit shift long term relianc import new drug wu zhen deputi head china food drug administr told brief monday drug use oversea year make market china wu ad china march propos way speed approv import drug includ reform clinic trial requir also want boost drug industri see shift gener drug toward innov medicin medic equip report adam jourdan edit richard borsuk edwina gibb'\n",
            " 'vice presid mike penc leav nfl game anti american protest vice presid mike penc leav nfl game anti american protest reader think stori fact add two cent news donn marten vice presid mike penc attend today nation footbal leagu game indianapoli colt san francisco er chose leav sever player chose use presenc make anti american polit statement cdn http www conservativedailynew com colt honor longtim player futur hall fame quarterback peyton man ceremoni home team respect flag stand action oppos san francisco er seen suffici disrespect veep depart venu kickoff report indianapoli fox affili fox vp mike penc leav colt game er player knelt anthem vice presid mike penc decid leav indianapoli colt game sunday er player knelt nation anthem tweet former indiana governor said left today colt game potu dignifi event disrespect soldier flag nation anthem minut tweet offic releas full statement left today colt game presid trump dignifi event disrespect soldier flag nation anthem time mani american inspir nation courag resolv resili ever ralli around flag everyth unit us everyon entitl opinion think much ask nfl player respect flag nation anthem stand presid trump stand soldier alway stand flag nation anthem announc friday penc would attend game second ladi game special peyton man jersey retir halftim induct ring honor game tweet look forward honor great career peyton man penc action doubt seiz pollut nfl racial grievanc hatr presid trump proof stand white supremaci nazism dead right leav mani fan attend done well instead subject polit radic leftist racial grievanc monger driven leagu popular histor low vice presid express follow via twitter vice presid penc vp repli vp everyon entitl opinion think much ask nfl player respect flag nation anthem vice presid penc vp left today colt game potu dignifi event disrespect soldier flag nation anthem oct penc formerli governor indiana nfl need even neg public earli game even kick read vice presid mike penc leav nfl game anti american protest origin content conserv daili news conserv daili news american go news current event commentari trust cdn http www conservativedailynew com sourc http www conservativedailynew com vice presid mike penc leav nfl game anti american protest']\n"
          ]
        }
      ]
    },
    {
      "cell_type": "code",
      "source": [
        "print(Y)"
      ],
      "metadata": {
        "colab": {
          "base_uri": "https://localhost:8080/"
        },
        "id": "lAzSFkW8k7Xn",
        "outputId": "5c68fc94-e2b7-4611-b1a9-030e29999c65"
      },
      "execution_count": 25,
      "outputs": [
        {
          "output_type": "stream",
          "name": "stdout",
          "text": [
            "[1 1 1 ... 0 1 0]\n"
          ]
        }
      ]
    },
    {
      "cell_type": "code",
      "source": [
        "X.shape"
      ],
      "metadata": {
        "colab": {
          "base_uri": "https://localhost:8080/"
        },
        "id": "62cB-a1sk9Bm",
        "outputId": "58d20e11-24bc-4270-e2f2-162cfba899b5"
      },
      "execution_count": 55,
      "outputs": [
        {
          "output_type": "execute_result",
          "data": {
            "text/plain": [
              "(4009,)"
            ]
          },
          "metadata": {},
          "execution_count": 55
        }
      ]
    },
    {
      "cell_type": "code",
      "source": [
        "Y.shape"
      ],
      "metadata": {
        "colab": {
          "base_uri": "https://localhost:8080/"
        },
        "id": "75MA1A7OlHI_",
        "outputId": "dc340f9e-b12a-4a79-c534-c02cbcb511a6"
      },
      "execution_count": 56,
      "outputs": [
        {
          "output_type": "execute_result",
          "data": {
            "text/plain": [
              "(4009,)"
            ]
          },
          "metadata": {},
          "execution_count": 56
        }
      ]
    },
    {
      "cell_type": "code",
      "source": [
        "# converting textual data into numerical data\n",
        "vectorizer =  TfidfVectorizer()\n",
        "vectorizer.fit(X)\n",
        "\n",
        "X = vectorizer.transform(X)"
      ],
      "metadata": {
        "id": "u3VCISaklH_Q"
      },
      "execution_count": 60,
      "outputs": []
    },
    {
      "cell_type": "code",
      "source": [
        "print(X.shape)"
      ],
      "metadata": {
        "colab": {
          "base_uri": "https://localhost:8080/"
        },
        "id": "hbxE9YxMyVgv",
        "outputId": "d531d4b2-d666-462c-f6d5-f1ded03a6d43"
      },
      "execution_count": 61,
      "outputs": [
        {
          "output_type": "stream",
          "name": "stdout",
          "text": [
            "(4009, 30459)\n"
          ]
        }
      ]
    },
    {
      "cell_type": "code",
      "source": [
        "print(Y.shape)"
      ],
      "metadata": {
        "colab": {
          "base_uri": "https://localhost:8080/"
        },
        "id": "ef5tbd37tdVq",
        "outputId": "77319c34-5d92-4cbf-b3c8-723cbe330fc1"
      },
      "execution_count": 62,
      "outputs": [
        {
          "output_type": "stream",
          "name": "stdout",
          "text": [
            "(4009,)\n"
          ]
        }
      ]
    },
    {
      "cell_type": "markdown",
      "source": [
        "Splitting the data into training and test data"
      ],
      "metadata": {
        "id": "XEumOUq8ybEk"
      }
    },
    {
      "cell_type": "code",
      "source": [
        "X_train, X_test, Y_train, Y_test = train_test_split(X, Y, test_size=0.2, random_state=2,stratify=Y)"
      ],
      "metadata": {
        "id": "q4bvuId2yY4O"
      },
      "execution_count": 63,
      "outputs": []
    },
    {
      "cell_type": "code",
      "source": [
        "model = LogisticRegression()"
      ],
      "metadata": {
        "id": "Ll4ImakUyY1r"
      },
      "execution_count": 64,
      "outputs": []
    },
    {
      "cell_type": "code",
      "source": [
        "model.fit(X_train,Y_train)"
      ],
      "metadata": {
        "id": "YkaSl1QSyYzA",
        "colab": {
          "base_uri": "https://localhost:8080/",
          "height": 75
        },
        "outputId": "1bbde940-5095-4dd5-8cde-b0eae18eedfb"
      },
      "execution_count": 65,
      "outputs": [
        {
          "output_type": "execute_result",
          "data": {
            "text/plain": [
              "LogisticRegression()"
            ],
            "text/html": [
              "<style>#sk-container-id-2 {color: black;background-color: white;}#sk-container-id-2 pre{padding: 0;}#sk-container-id-2 div.sk-toggleable {background-color: white;}#sk-container-id-2 label.sk-toggleable__label {cursor: pointer;display: block;width: 100%;margin-bottom: 0;padding: 0.3em;box-sizing: border-box;text-align: center;}#sk-container-id-2 label.sk-toggleable__label-arrow:before {content: \"▸\";float: left;margin-right: 0.25em;color: #696969;}#sk-container-id-2 label.sk-toggleable__label-arrow:hover:before {color: black;}#sk-container-id-2 div.sk-estimator:hover label.sk-toggleable__label-arrow:before {color: black;}#sk-container-id-2 div.sk-toggleable__content {max-height: 0;max-width: 0;overflow: hidden;text-align: left;background-color: #f0f8ff;}#sk-container-id-2 div.sk-toggleable__content pre {margin: 0.2em;color: black;border-radius: 0.25em;background-color: #f0f8ff;}#sk-container-id-2 input.sk-toggleable__control:checked~div.sk-toggleable__content {max-height: 200px;max-width: 100%;overflow: auto;}#sk-container-id-2 input.sk-toggleable__control:checked~label.sk-toggleable__label-arrow:before {content: \"▾\";}#sk-container-id-2 div.sk-estimator input.sk-toggleable__control:checked~label.sk-toggleable__label {background-color: #d4ebff;}#sk-container-id-2 div.sk-label input.sk-toggleable__control:checked~label.sk-toggleable__label {background-color: #d4ebff;}#sk-container-id-2 input.sk-hidden--visually {border: 0;clip: rect(1px 1px 1px 1px);clip: rect(1px, 1px, 1px, 1px);height: 1px;margin: -1px;overflow: hidden;padding: 0;position: absolute;width: 1px;}#sk-container-id-2 div.sk-estimator {font-family: monospace;background-color: #f0f8ff;border: 1px dotted black;border-radius: 0.25em;box-sizing: border-box;margin-bottom: 0.5em;}#sk-container-id-2 div.sk-estimator:hover {background-color: #d4ebff;}#sk-container-id-2 div.sk-parallel-item::after {content: \"\";width: 100%;border-bottom: 1px solid gray;flex-grow: 1;}#sk-container-id-2 div.sk-label:hover label.sk-toggleable__label {background-color: #d4ebff;}#sk-container-id-2 div.sk-serial::before {content: \"\";position: absolute;border-left: 1px solid gray;box-sizing: border-box;top: 0;bottom: 0;left: 50%;z-index: 0;}#sk-container-id-2 div.sk-serial {display: flex;flex-direction: column;align-items: center;background-color: white;padding-right: 0.2em;padding-left: 0.2em;position: relative;}#sk-container-id-2 div.sk-item {position: relative;z-index: 1;}#sk-container-id-2 div.sk-parallel {display: flex;align-items: stretch;justify-content: center;background-color: white;position: relative;}#sk-container-id-2 div.sk-item::before, #sk-container-id-2 div.sk-parallel-item::before {content: \"\";position: absolute;border-left: 1px solid gray;box-sizing: border-box;top: 0;bottom: 0;left: 50%;z-index: -1;}#sk-container-id-2 div.sk-parallel-item {display: flex;flex-direction: column;z-index: 1;position: relative;background-color: white;}#sk-container-id-2 div.sk-parallel-item:first-child::after {align-self: flex-end;width: 50%;}#sk-container-id-2 div.sk-parallel-item:last-child::after {align-self: flex-start;width: 50%;}#sk-container-id-2 div.sk-parallel-item:only-child::after {width: 0;}#sk-container-id-2 div.sk-dashed-wrapped {border: 1px dashed gray;margin: 0 0.4em 0.5em 0.4em;box-sizing: border-box;padding-bottom: 0.4em;background-color: white;}#sk-container-id-2 div.sk-label label {font-family: monospace;font-weight: bold;display: inline-block;line-height: 1.2em;}#sk-container-id-2 div.sk-label-container {text-align: center;}#sk-container-id-2 div.sk-container {/* jupyter's `normalize.less` sets `[hidden] { display: none; }` but bootstrap.min.css set `[hidden] { display: none !important; }` so we also need the `!important` here to be able to override the default hidden behavior on the sphinx rendered scikit-learn.org. See: https://github.com/scikit-learn/scikit-learn/issues/21755 */display: inline-block !important;position: relative;}#sk-container-id-2 div.sk-text-repr-fallback {display: none;}</style><div id=\"sk-container-id-2\" class=\"sk-top-container\"><div class=\"sk-text-repr-fallback\"><pre>LogisticRegression()</pre><b>In a Jupyter environment, please rerun this cell to show the HTML representation or trust the notebook. <br />On GitHub, the HTML representation is unable to render, please try loading this page with nbviewer.org.</b></div><div class=\"sk-container\" hidden><div class=\"sk-item\"><div class=\"sk-estimator sk-toggleable\"><input class=\"sk-toggleable__control sk-hidden--visually\" id=\"sk-estimator-id-2\" type=\"checkbox\" checked><label for=\"sk-estimator-id-2\" class=\"sk-toggleable__label sk-toggleable__label-arrow\">LogisticRegression</label><div class=\"sk-toggleable__content\"><pre>LogisticRegression()</pre></div></div></div></div></div>"
            ]
          },
          "metadata": {},
          "execution_count": 65
        }
      ]
    },
    {
      "cell_type": "code",
      "source": [
        "X_train_pred = model.predict(X_train)\n",
        "training_data_accuracy = accuracy_score(X_train_pred,Y_train)\n",
        "print(training_data_accuracy)"
      ],
      "metadata": {
        "id": "y8VUnLeUyYv-",
        "colab": {
          "base_uri": "https://localhost:8080/"
        },
        "outputId": "e4c14d90-1281-4ac9-ec9f-409d6878d23a"
      },
      "execution_count": 66,
      "outputs": [
        {
          "output_type": "stream",
          "name": "stdout",
          "text": [
            "0.990645463049579\n"
          ]
        }
      ]
    },
    {
      "cell_type": "markdown",
      "source": [
        "X_train: This represents the input features (independent variables) of the training dataset. Each row corresponds to a set of features (e.g., characteristics of an object or person).\n",
        "\n",
        "X_train_pred: This variable holds the predicted target values (predictions) made by the model based on the input features in X_train."
      ],
      "metadata": {
        "id": "HRASKFp9myRx"
      }
    },
    {
      "cell_type": "code",
      "source": [
        "X_test_pred = model.predict(X_test)\n",
        "testing_data_accuracy = accuracy_score(X_test_pred,Y_test)\n",
        "print(testing_data_accuracy)"
      ],
      "metadata": {
        "id": "uxpXkEZSyYob",
        "colab": {
          "base_uri": "https://localhost:8080/"
        },
        "outputId": "635f690a-06d8-4815-be34-0857d2907107"
      },
      "execution_count": 67,
      "outputs": [
        {
          "output_type": "stream",
          "name": "stdout",
          "text": [
            "0.9613466334164589\n"
          ]
        }
      ]
    },
    {
      "cell_type": "markdown",
      "source": [
        "Training Data Accuracy Greater Than Testing Data Accuracy:\n",
        "This scenario suggests that the model may be overfitting the training data. Overfitting occurs when the model learns not only the underlying patterns in the training data but also noise and random fluctuations specific to the training dataset.\n",
        "\n",
        "Training Data Accuracy Lesser Than Testing Data Accuracy:\n",
        "This situation is less common but can occur if the model is underfitting the training data. Underfitting happens when the model is too simplistic or not trained enough to capture the underlying patterns in the training data. In such cases, the model may perform poorly on both the training and testing datasets, but its accuracy on testing data could still be higher due to chance or other factors.\n",
        "\n",
        "Training Data Accuracy Equal to Testing Data Accuracy:\n",
        "Ideally, a model's performance should be similar on both training and testing datasets, indicating that it generalizes well to new, unseen data. If the accuracies are similar and high, it suggests that the model has learned the underlying patterns effectively without overfitting or underfitting."
      ],
      "metadata": {
        "id": "sDULYYfxm1Kf"
      }
    },
    {
      "cell_type": "markdown",
      "source": [
        "Making a Predictive System"
      ],
      "metadata": {
        "id": "KI-a5W6ZnxSv"
      }
    },
    {
      "cell_type": "code",
      "source": [
        "X_new = X_test[100]\n",
        "\n",
        "prediction = model.predict(X_new)\n",
        "print(prediction)\n",
        "if(prediction ==0):\n",
        "  print(\"The news is real\")\n",
        "else:\n",
        "  print(\"The news is fake\")"
      ],
      "metadata": {
        "id": "_pZLPdTryYmJ",
        "colab": {
          "base_uri": "https://localhost:8080/"
        },
        "outputId": "f3b97ac9-ad37-44fa-f934-55804150e193"
      },
      "execution_count": 68,
      "outputs": [
        {
          "output_type": "stream",
          "name": "stdout",
          "text": [
            "[0]\n",
            "The news is real\n"
          ]
        }
      ]
    },
    {
      "cell_type": "code",
      "source": [
        "print(Y_test[100])"
      ],
      "metadata": {
        "colab": {
          "base_uri": "https://localhost:8080/"
        },
        "id": "u2mQ_c5EtQm5",
        "outputId": "8c80a193-303c-468d-fd7e-5c5d87fb435c"
      },
      "execution_count": 70,
      "outputs": [
        {
          "output_type": "stream",
          "name": "stdout",
          "text": [
            "0\n"
          ]
        }
      ]
    },
    {
      "cell_type": "code",
      "source": [
        "print(Y_test[0])"
      ],
      "metadata": {
        "colab": {
          "base_uri": "https://localhost:8080/"
        },
        "id": "HsUuV7QRoMIl",
        "outputId": "a947bfd0-3c67-436c-db35-5581d67c7b7f"
      },
      "execution_count": 51,
      "outputs": [
        {
          "output_type": "stream",
          "name": "stdout",
          "text": [
            "0\n"
          ]
        }
      ]
    },
    {
      "cell_type": "markdown",
      "source": [
        "Integration with Flask API or GUI interface is left-over"
      ],
      "metadata": {
        "id": "VBMvKPa7qZI8"
      }
    },
    {
      "cell_type": "code",
      "source": [
        "print(Y_test[0])"
      ],
      "metadata": {
        "colab": {
          "base_uri": "https://localhost:8080/"
        },
        "id": "d8nVmSF7sRGW",
        "outputId": "b9763f74-7443-4381-b5b1-a51cf494f701"
      },
      "execution_count": 50,
      "outputs": [
        {
          "output_type": "stream",
          "name": "stdout",
          "text": [
            "0\n"
          ]
        }
      ]
    },
    {
      "cell_type": "code",
      "source": [
        "def predict_news_category(news_text):\n",
        "    # Preprocess the input news text\n",
        "    text_vector = vectorizer.transform([news_text])\n",
        "\n",
        "    # Make prediction using the trained model\n",
        "    prediction = model.predict(text_vector)\n",
        "\n",
        "    if prediction == 0:\n",
        "        return \"The news is real\"\n",
        "    else:\n",
        "        return \"The news is fake\"\n",
        "\n",
        "# Continuous prediction loop\n",
        "while True:\n",
        "    # Get news input from user\n",
        "    input_news = input(\"Enter news article (type 'exit' to quit): \")\n",
        "\n",
        "    if input_news.lower() == 'exit':\n",
        "        break\n",
        "\n",
        "    # Perform prediction\n",
        "    result = predict_news_category(input_news)\n",
        "\n",
        "    # Display prediction result\n",
        "    print(result)\n"
      ],
      "metadata": {
        "colab": {
          "base_uri": "https://localhost:8080/"
        },
        "id": "HvXYjM76ueMT",
        "outputId": "d392769c-d866-4543-f065-e2b3896bc58c"
      },
      "execution_count": 72,
      "outputs": [
        {
          "name": "stdout",
          "output_type": "stream",
          "text": [
            "Enter news article (type 'exit' to quit): Today it will rain\n",
            "The news is fake\n",
            "Enter news article (type 'exit' to quit): THere is a dog\n",
            "The news is real\n",
            "Enter news article (type 'exit' to quit): Four ways Bob Corker skewered Donald Trump Image copyright Getty Images On Sunday morning, Donald Trump went off on a Twitter tirade against a member of his own party. This, in itself, isn't exactly huge news. It's far from the first time the president has turned his rhetorical cannons on his own ranks. This time, however, his attacks were particularly biting and personal. He essentially called Tennessee Senator Bob Corker, the chair of the powerful Senate Foreign Relations Committee, a coward for not running for re-election. He said Mr Corker \"begged\" for the president's endorsement, which he refused to give. He wrongly claimed that Mr Corker's support of the Iranian nuclear agreement was his only political accomplishment. Unlike some of his colleagues, Mr Corker - free from having to worry about his immediate political future - didn't hold his tongue. Skip Twitter post by @SenBobCorker It's a shame the White House has become an adult day care center. Someone obviously missed their shift this morning. — Senator Bob Corker (@SenBobCorker) October 8, 2017 Report That wasn't the end of it, though. He then spoke with the New York Times and really let the president have it. Here are four choice quotes from the Tennessee senator's interview with the Times and why they are particularly damning. \"I don't know why the president tweets out things that are not true. You know he does it, everyone knows he does it, but he does.\" You can't really sugarcoat this one. Mr Corker is flat-out saying the president is a liar - and everyone knows it. The senator, in particular, is challenging Mr Trump's insistence that he unsuccessfully pleaded for his endorsement, but the accusation is much broader. Mr Corker and the president used to be something akin to allies. The Tennessean was on Mr Trump's short list for vice-president and secretary of state. Image copyright Getty Images Image caption Bob Corker at Trump campaign rally in July 2016 Those days are seemingly very much over now - and it's not like Mr Corker is going anywhere anytime soon. Although he's not running for re-election, he'll be in the Senate, chairing a powerful committee, until January 2019. The president's margin for success in that chamber is razor-thin. If Democrats can continue to stand together in opposition, he can afford to lose only two votes out of 52 Republican senators. That's why healthcare reform collapsed in July - and it could be bad news for tax efforts. From here on out, Mr Corker isn't going to do the president any favours. \"Look, except for a few people, the vast majority of our caucus understands what we're dealing with here.\" Frustration in Congress has been growing over what Republicans feel has been the president's inability to focus on advancing their agenda. Getting a sharply divided party to come together on plans to repeal Obamacare, reform taxes or boost infrastructure spending is challenging enough. Doing so when the president stirs up unrelated controversies on a seemingly daily basis makes things all the harder. One of the president's gifts has been his ability to shake off negative stories by quickly moving on to a different subject. That worked brilliantly during his presidential campaign, but it's less effective during the legislative slow grind. Image copyright Getty Images Image caption Corker at the confirmation hearing for Secretary of State Rex Tillerson For months, Republicans in Congress have been grumbling about this in the background and among themselves. Occasionally, someone like Mr McConnell will lament that the president doesn't understand how the Senate works. Mr Corker has now stated it loud and clear. And, what's more, he says almost everyone agrees with him. They've kept silent until now because they still hope to pass conservative legislation that the president can sign or fear Mr Trump's legions will back a primary challenge next year or stay home during the general election. If that calculus ever changes - if it becomes riskier to stay silent than speak out - Mr Trump will be in real trouble. \"A lot of people think that there is some kind of 'good cop, bad cop' act underway, but that's just not true.\" Time and again, Mr Trump has appeared to undercut Secretary of State Rex Tillerson and others in his administration who are attempting to use soft diplomacy to deal with a range of international crises. The war against the Taliban in Afghanistan, Iran's compliance with the multinational nuclear agreement, the ongoing dispute between Qatar and its Persian Gulf neighbours, the unrest in Venezuela and, most recently, North Korea's continued ballistic missile tests have all been the target of the president's offhand remarks and Twitter invective. Some administration defenders have said this is all a part of Mr Trump's strategy - an updated version of the Nixon-era \"madman theory\", in which the president forces adversaries to give way because they fear an unpredictable US leader's actions. Mr Corker isn't buying it. There's no strategy, he says, just the possibility of chaos - which he hopes Mr Trump's senior advisers will be able to avoid. \"I know for a fact that every single day at the White House, it's a situation of trying to contain him.\" There's now a growing collection of John Kelly face-palm photos that serve as a testament to the chief-of-staff's reported frustration at dealing with the president. Mr Trump goes off-script to praise torch-bearing white nationalists at a rally in Charlottesville, and Mr Kelly is captured closing his eyes and rubbing the arch of his nose, as if attempting to stave off a migraine. Image copyright Reuters Image caption White House Chief of Staff John Kelly looks on as US President Donald Trump speaks at a campaign rally The president calls North Korean leaders \"criminals\" in a speech to the United Nations, and Mr Kelly straight-up buries his face in his hands. The White House communications team is often left scrambling to try to explain or reframe an indelicate presidential \"joke\" or remark that directly contradicts what was until then the official administration line. Even though Mr Kelly has brought some discipline to the West Wing staff, the president still marches to the beat of his own drum - and continues to have unfettered access to his phone's Twitter app. Bob Corker is only the latest person - politician, journalist, sports star or celebrity - to feel the mercurial president's uncontainable ire.\n",
            "The news is fake\n",
            "Enter news article (type 'exit' to quit): exit\n"
          ]
        }
      ]
    },
    {
      "cell_type": "code",
      "source": [],
      "metadata": {
        "id": "DoyjMT1WsA45"
      },
      "execution_count": null,
      "outputs": []
    }
  ]
}